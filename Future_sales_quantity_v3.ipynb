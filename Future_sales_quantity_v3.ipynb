{
 "cells": [
  {
   "cell_type": "code",
   "execution_count": 1,
   "id": "44261e03-0640-4321-94d5-074819c52d47",
   "metadata": {},
   "outputs": [],
   "source": [
    "#!pip install scikit-learn\n",
    "#!pip install sklearn\n",
    "#!pip install matplotlib\n",
    "#!pip install seaborn\n",
    "#!pip install tqdm\n",
    "#!pip install statsmodels\n",
    "#!pip install xgboost"
   ]
  },
  {
   "cell_type": "code",
   "execution_count": 2,
   "id": "bd41af29-4700-4809-b86f-cf39398ddede",
   "metadata": {},
   "outputs": [
    {
     "ename": "ModuleNotFoundError",
     "evalue": "No module named 'pandas'",
     "output_type": "error",
     "traceback": [
      "\u001B[0;31m---------------------------------------------------------------------------\u001B[0m",
      "\u001B[0;31mModuleNotFoundError\u001B[0m                       Traceback (most recent call last)",
      "Cell \u001B[0;32mIn[2], line 1\u001B[0m\n\u001B[0;32m----> 1\u001B[0m \u001B[38;5;28;01mimport\u001B[39;00m \u001B[38;5;21;01mpandas\u001B[39;00m \u001B[38;5;28;01mas\u001B[39;00m \u001B[38;5;21;01mpd\u001B[39;00m\n\u001B[1;32m      2\u001B[0m \u001B[38;5;28;01mimport\u001B[39;00m \u001B[38;5;21;01mnumpy\u001B[39;00m \u001B[38;5;28;01mas\u001B[39;00m \u001B[38;5;21;01mnp\u001B[39;00m\n\u001B[1;32m      3\u001B[0m \u001B[38;5;28;01mimport\u001B[39;00m \u001B[38;5;21;01mos\u001B[39;00m\n",
      "\u001B[0;31mModuleNotFoundError\u001B[0m: No module named 'pandas'"
     ]
    }
   ],
   "source": [
    "import pandas as pd\n",
    "import numpy as np\n",
    "import os\n",
    "import matplotlib.pyplot as plt\n",
    "import seaborn as sns\n",
    "from tqdm import tqdm\n",
    "import datetime as dt"
   ]
  },
  {
   "cell_type": "code",
   "execution_count": 3,
   "id": "e2955540-4f78-46ef-a0bd-79151ac29799",
   "metadata": {},
   "outputs": [
    {
     "data": {
      "text/plain": [
       "'/Users/samuelchazy/ML_files_X/Applied_Projects/Competitions/Kaggle/Predict_Future_Sales'"
      ]
     },
     "execution_count": 3,
     "metadata": {},
     "output_type": "execute_result"
    }
   ],
   "source": [
    "os.getcwd()"
   ]
  },
  {
   "cell_type": "markdown",
   "id": "12798922-b77d-40e2-80df-6484a3948cb7",
   "metadata": {},
   "source": [
    "# Get the files & drop null values"
   ]
  },
  {
   "cell_type": "code",
   "execution_count": 4,
   "id": "c4ce769b-e9ed-488d-8af7-ae239616bdee",
   "metadata": {},
   "outputs": [],
   "source": [
    "file_1='data/sales_train.csv'\n",
    "file_2='data/shops.csv'\n",
    "file_3='data/item_categories.csv'\n",
    "file_4='data/items.csv'"
   ]
  },
  {
   "cell_type": "markdown",
   "id": "3eebf7ca-c51f-4e3a-80fe-3d9ecc580fbe",
   "metadata": {},
   "source": [
    "# File 1"
   ]
  },
  {
   "cell_type": "code",
   "execution_count": 5,
   "id": "8534b898-18d5-4ee5-8b48-c9c6dfad508a",
   "metadata": {},
   "outputs": [
    {
     "data": {
      "text/html": [
       "<div>\n",
       "<style scoped>\n",
       "    .dataframe tbody tr th:only-of-type {\n",
       "        vertical-align: middle;\n",
       "    }\n",
       "\n",
       "    .dataframe tbody tr th {\n",
       "        vertical-align: top;\n",
       "    }\n",
       "\n",
       "    .dataframe thead th {\n",
       "        text-align: right;\n",
       "    }\n",
       "</style>\n",
       "<table border=\"1\" class=\"dataframe\">\n",
       "  <thead>\n",
       "    <tr style=\"text-align: right;\">\n",
       "      <th></th>\n",
       "      <th>date</th>\n",
       "      <th>date_block_num</th>\n",
       "      <th>shop_id</th>\n",
       "      <th>item_id</th>\n",
       "      <th>item_price</th>\n",
       "      <th>qt_sold_per_day</th>\n",
       "    </tr>\n",
       "  </thead>\n",
       "  <tbody>\n",
       "    <tr>\n",
       "      <th>2935847</th>\n",
       "      <td>2015-10-22</td>\n",
       "      <td>33</td>\n",
       "      <td>25</td>\n",
       "      <td>7440</td>\n",
       "      <td>299.0</td>\n",
       "      <td>1.0</td>\n",
       "    </tr>\n",
       "    <tr>\n",
       "      <th>2935848</th>\n",
       "      <td>2015-10-03</td>\n",
       "      <td>33</td>\n",
       "      <td>25</td>\n",
       "      <td>7460</td>\n",
       "      <td>299.0</td>\n",
       "      <td>1.0</td>\n",
       "    </tr>\n",
       "  </tbody>\n",
       "</table>\n",
       "</div>"
      ],
      "text/plain": [
       "              date  date_block_num  shop_id  item_id  item_price  \\\n",
       "2935847 2015-10-22              33       25     7440       299.0   \n",
       "2935848 2015-10-03              33       25     7460       299.0   \n",
       "\n",
       "         qt_sold_per_day  \n",
       "2935847              1.0  \n",
       "2935848              1.0  "
      ]
     },
     "execution_count": 5,
     "metadata": {},
     "output_type": "execute_result"
    }
   ],
   "source": [
    "df_train = pd.read_csv(file_1)\n",
    "df_train = df_train.rename(columns={'item_cnt_day':'qt_sold_per_day'})\n",
    "df_train['date'] = pd.to_datetime(df_train['date'],format=\"%d.%m.%Y\")\n",
    "df_train.tail(2)"
   ]
  },
  {
   "cell_type": "code",
   "execution_count": 6,
   "id": "f9d99822-037d-4f59-8341-8e99f624ce9e",
   "metadata": {},
   "outputs": [
    {
     "data": {
      "text/plain": [
       "(2935849, 6)"
      ]
     },
     "execution_count": 6,
     "metadata": {},
     "output_type": "execute_result"
    }
   ],
   "source": [
    "df_train.shape"
   ]
  },
  {
   "cell_type": "code",
   "execution_count": 7,
   "id": "2620febb-1b3f-4fbf-ba1a-c66cc57c8a59",
   "metadata": {},
   "outputs": [
    {
     "name": "stdout",
     "output_type": "stream",
     "text": [
      "<class 'pandas.core.frame.DataFrame'>\n",
      "RangeIndex: 2935849 entries, 0 to 2935848\n",
      "Data columns (total 6 columns):\n",
      " #   Column           Dtype         \n",
      "---  ------           -----         \n",
      " 0   date             datetime64[ns]\n",
      " 1   date_block_num   int64         \n",
      " 2   shop_id          int64         \n",
      " 3   item_id          int64         \n",
      " 4   item_price       float64       \n",
      " 5   qt_sold_per_day  float64       \n",
      "dtypes: datetime64[ns](1), float64(2), int64(3)\n",
      "memory usage: 134.4 MB\n"
     ]
    }
   ],
   "source": [
    "df_train.info()"
   ]
  },
  {
   "cell_type": "code",
   "execution_count": 8,
   "id": "ad491ee9-d7d1-41e1-9464-c68aa0eb99c4",
   "metadata": {},
   "outputs": [
    {
     "data": {
      "text/plain": [
       "date               0\n",
       "date_block_num     0\n",
       "shop_id            0\n",
       "item_id            0\n",
       "item_price         0\n",
       "qt_sold_per_day    0\n",
       "dtype: int64"
      ]
     },
     "execution_count": 8,
     "metadata": {},
     "output_type": "execute_result"
    }
   ],
   "source": [
    "df_train.isna().sum()"
   ]
  },
  {
   "cell_type": "markdown",
   "id": "dc9df301-5a8a-4dbc-a857-6e77f1d1042c",
   "metadata": {},
   "source": [
    "# File 2"
   ]
  },
  {
   "cell_type": "code",
   "execution_count": 9,
   "id": "bc6fa63e-660e-405f-a57e-c121e9b64234",
   "metadata": {},
   "outputs": [
    {
     "data": {
      "text/html": [
       "<div>\n",
       "<style scoped>\n",
       "    .dataframe tbody tr th:only-of-type {\n",
       "        vertical-align: middle;\n",
       "    }\n",
       "\n",
       "    .dataframe tbody tr th {\n",
       "        vertical-align: top;\n",
       "    }\n",
       "\n",
       "    .dataframe thead th {\n",
       "        text-align: right;\n",
       "    }\n",
       "</style>\n",
       "<table border=\"1\" class=\"dataframe\">\n",
       "  <thead>\n",
       "    <tr style=\"text-align: right;\">\n",
       "      <th></th>\n",
       "      <th>shop_name</th>\n",
       "      <th>shop_id</th>\n",
       "    </tr>\n",
       "  </thead>\n",
       "  <tbody>\n",
       "    <tr>\n",
       "      <th>0</th>\n",
       "      <td>!Якутск Орджоникидзе, 56 фран</td>\n",
       "      <td>0</td>\n",
       "    </tr>\n",
       "    <tr>\n",
       "      <th>1</th>\n",
       "      <td>!Якутск ТЦ \"Центральный\" фран</td>\n",
       "      <td>1</td>\n",
       "    </tr>\n",
       "  </tbody>\n",
       "</table>\n",
       "</div>"
      ],
      "text/plain": [
       "                       shop_name  shop_id\n",
       "0  !Якутск Орджоникидзе, 56 фран        0\n",
       "1  !Якутск ТЦ \"Центральный\" фран        1"
      ]
     },
     "execution_count": 9,
     "metadata": {},
     "output_type": "execute_result"
    }
   ],
   "source": [
    "df_two = pd.read_csv(file_2)\n",
    "df_two.head(2)"
   ]
  },
  {
   "cell_type": "code",
   "execution_count": 10,
   "id": "35bcc3e8-f19d-4a0b-a341-738b1c3ae438",
   "metadata": {},
   "outputs": [
    {
     "name": "stdout",
     "output_type": "stream",
     "text": [
      "<class 'pandas.core.frame.DataFrame'>\n",
      "RangeIndex: 60 entries, 0 to 59\n",
      "Data columns (total 2 columns):\n",
      " #   Column     Non-Null Count  Dtype \n",
      "---  ------     --------------  ----- \n",
      " 0   shop_name  60 non-null     object\n",
      " 1   shop_id    60 non-null     int64 \n",
      "dtypes: int64(1), object(1)\n",
      "memory usage: 1.1+ KB\n"
     ]
    }
   ],
   "source": [
    "df_two.info()"
   ]
  },
  {
   "cell_type": "code",
   "execution_count": 11,
   "id": "71687042-3390-4531-86a3-d62d6fad4d70",
   "metadata": {},
   "outputs": [
    {
     "data": {
      "text/plain": [
       "shop_name    0\n",
       "shop_id      0\n",
       "dtype: int64"
      ]
     },
     "execution_count": 11,
     "metadata": {},
     "output_type": "execute_result"
    }
   ],
   "source": [
    "df_two.isna().sum()"
   ]
  },
  {
   "cell_type": "markdown",
   "id": "77339e48-9b96-4a90-b7e5-c21c9cdefb8b",
   "metadata": {},
   "source": [
    "# File 3"
   ]
  },
  {
   "cell_type": "code",
   "execution_count": 12,
   "id": "2b22809f-fe4e-4adf-b759-91b131b52392",
   "metadata": {},
   "outputs": [
    {
     "data": {
      "text/html": [
       "<div>\n",
       "<style scoped>\n",
       "    .dataframe tbody tr th:only-of-type {\n",
       "        vertical-align: middle;\n",
       "    }\n",
       "\n",
       "    .dataframe tbody tr th {\n",
       "        vertical-align: top;\n",
       "    }\n",
       "\n",
       "    .dataframe thead th {\n",
       "        text-align: right;\n",
       "    }\n",
       "</style>\n",
       "<table border=\"1\" class=\"dataframe\">\n",
       "  <thead>\n",
       "    <tr style=\"text-align: right;\">\n",
       "      <th></th>\n",
       "      <th>item_category_name</th>\n",
       "      <th>item_category_id</th>\n",
       "    </tr>\n",
       "  </thead>\n",
       "  <tbody>\n",
       "    <tr>\n",
       "      <th>0</th>\n",
       "      <td>PC - Гарнитуры/Наушники</td>\n",
       "      <td>0</td>\n",
       "    </tr>\n",
       "    <tr>\n",
       "      <th>1</th>\n",
       "      <td>Аксессуары - PS2</td>\n",
       "      <td>1</td>\n",
       "    </tr>\n",
       "  </tbody>\n",
       "</table>\n",
       "</div>"
      ],
      "text/plain": [
       "        item_category_name  item_category_id\n",
       "0  PC - Гарнитуры/Наушники                 0\n",
       "1         Аксессуары - PS2                 1"
      ]
     },
     "execution_count": 12,
     "metadata": {},
     "output_type": "execute_result"
    }
   ],
   "source": [
    "df_three = pd.read_csv(file_3)\n",
    "df_three.head(2)"
   ]
  },
  {
   "cell_type": "code",
   "execution_count": 13,
   "id": "4c2d25f9-e1b9-4a0e-86f5-e63eb7fdb97c",
   "metadata": {},
   "outputs": [
    {
     "name": "stdout",
     "output_type": "stream",
     "text": [
      "<class 'pandas.core.frame.DataFrame'>\n",
      "RangeIndex: 84 entries, 0 to 83\n",
      "Data columns (total 2 columns):\n",
      " #   Column              Non-Null Count  Dtype \n",
      "---  ------              --------------  ----- \n",
      " 0   item_category_name  84 non-null     object\n",
      " 1   item_category_id    84 non-null     int64 \n",
      "dtypes: int64(1), object(1)\n",
      "memory usage: 1.4+ KB\n"
     ]
    }
   ],
   "source": [
    "df_three.info()"
   ]
  },
  {
   "cell_type": "code",
   "execution_count": 14,
   "id": "64ce87a6-de03-486f-a274-7bcd57a1f8c1",
   "metadata": {},
   "outputs": [
    {
     "data": {
      "text/plain": [
       "item_category_name    0\n",
       "item_category_id      0\n",
       "dtype: int64"
      ]
     },
     "execution_count": 14,
     "metadata": {},
     "output_type": "execute_result"
    }
   ],
   "source": [
    "df_three.isna().sum()"
   ]
  },
  {
   "cell_type": "markdown",
   "id": "4d74f989-ce97-4ca2-acd9-040249fbf670",
   "metadata": {},
   "source": [
    "# File 4"
   ]
  },
  {
   "cell_type": "code",
   "execution_count": 15,
   "id": "ab33cdce-8afa-4dba-ab78-8f52a97f3f8f",
   "metadata": {},
   "outputs": [
    {
     "data": {
      "text/html": [
       "<div>\n",
       "<style scoped>\n",
       "    .dataframe tbody tr th:only-of-type {\n",
       "        vertical-align: middle;\n",
       "    }\n",
       "\n",
       "    .dataframe tbody tr th {\n",
       "        vertical-align: top;\n",
       "    }\n",
       "\n",
       "    .dataframe thead th {\n",
       "        text-align: right;\n",
       "    }\n",
       "</style>\n",
       "<table border=\"1\" class=\"dataframe\">\n",
       "  <thead>\n",
       "    <tr style=\"text-align: right;\">\n",
       "      <th></th>\n",
       "      <th>item_name</th>\n",
       "      <th>item_id</th>\n",
       "      <th>item_category_id</th>\n",
       "    </tr>\n",
       "  </thead>\n",
       "  <tbody>\n",
       "    <tr>\n",
       "      <th>0</th>\n",
       "      <td>! ВО ВЛАСТИ НАВАЖДЕНИЯ (ПЛАСТ.)         D</td>\n",
       "      <td>0</td>\n",
       "      <td>40</td>\n",
       "    </tr>\n",
       "    <tr>\n",
       "      <th>1</th>\n",
       "      <td>!ABBYY FineReader 12 Professional Edition Full...</td>\n",
       "      <td>1</td>\n",
       "      <td>76</td>\n",
       "    </tr>\n",
       "  </tbody>\n",
       "</table>\n",
       "</div>"
      ],
      "text/plain": [
       "                                           item_name  item_id  \\\n",
       "0          ! ВО ВЛАСТИ НАВАЖДЕНИЯ (ПЛАСТ.)         D        0   \n",
       "1  !ABBYY FineReader 12 Professional Edition Full...        1   \n",
       "\n",
       "   item_category_id  \n",
       "0                40  \n",
       "1                76  "
      ]
     },
     "execution_count": 15,
     "metadata": {},
     "output_type": "execute_result"
    }
   ],
   "source": [
    "df_four = pd.read_csv(file_4)\n",
    "df_four.head(2)"
   ]
  },
  {
   "cell_type": "code",
   "execution_count": 16,
   "id": "79ad58f2-cdae-43e2-b173-71150cd6f4c6",
   "metadata": {},
   "outputs": [
    {
     "name": "stdout",
     "output_type": "stream",
     "text": [
      "<class 'pandas.core.frame.DataFrame'>\n",
      "RangeIndex: 22170 entries, 0 to 22169\n",
      "Data columns (total 3 columns):\n",
      " #   Column            Non-Null Count  Dtype \n",
      "---  ------            --------------  ----- \n",
      " 0   item_name         22170 non-null  object\n",
      " 1   item_id           22170 non-null  int64 \n",
      " 2   item_category_id  22170 non-null  int64 \n",
      "dtypes: int64(2), object(1)\n",
      "memory usage: 519.7+ KB\n"
     ]
    }
   ],
   "source": [
    "df_four.info()"
   ]
  },
  {
   "cell_type": "code",
   "execution_count": 17,
   "id": "db7479d0-8851-413d-95f2-4192d49b7f5f",
   "metadata": {},
   "outputs": [
    {
     "data": {
      "text/plain": [
       "item_name           0\n",
       "item_id             0\n",
       "item_category_id    0\n",
       "dtype: int64"
      ]
     },
     "execution_count": 17,
     "metadata": {},
     "output_type": "execute_result"
    }
   ],
   "source": [
    "df_four.isna().sum()"
   ]
  },
  {
   "cell_type": "markdown",
   "id": "ed6a9417-e668-4337-9143-a6b5129d4f9f",
   "metadata": {},
   "source": [
    "# Merge files"
   ]
  },
  {
   "cell_type": "code",
   "execution_count": 18,
   "id": "f1ca882b-2e28-43f3-b4d5-f6b15f0b4e5c",
   "metadata": {},
   "outputs": [
    {
     "data": {
      "text/html": [
       "<div>\n",
       "<style scoped>\n",
       "    .dataframe tbody tr th:only-of-type {\n",
       "        vertical-align: middle;\n",
       "    }\n",
       "\n",
       "    .dataframe tbody tr th {\n",
       "        vertical-align: top;\n",
       "    }\n",
       "\n",
       "    .dataframe thead th {\n",
       "        text-align: right;\n",
       "    }\n",
       "</style>\n",
       "<table border=\"1\" class=\"dataframe\">\n",
       "  <thead>\n",
       "    <tr style=\"text-align: right;\">\n",
       "      <th></th>\n",
       "      <th>date</th>\n",
       "      <th>date_block_num</th>\n",
       "      <th>shop_id</th>\n",
       "      <th>item_id</th>\n",
       "      <th>item_price</th>\n",
       "      <th>qt_sold_per_day</th>\n",
       "    </tr>\n",
       "  </thead>\n",
       "  <tbody>\n",
       "    <tr>\n",
       "      <th>0</th>\n",
       "      <td>2013-01-02</td>\n",
       "      <td>0</td>\n",
       "      <td>59</td>\n",
       "      <td>22154</td>\n",
       "      <td>999.0</td>\n",
       "      <td>1.0</td>\n",
       "    </tr>\n",
       "  </tbody>\n",
       "</table>\n",
       "</div>"
      ],
      "text/plain": [
       "        date  date_block_num  shop_id  item_id  item_price  qt_sold_per_day\n",
       "0 2013-01-02               0       59    22154       999.0              1.0"
      ]
     },
     "metadata": {},
     "output_type": "display_data"
    },
    {
     "data": {
      "text/html": [
       "<div>\n",
       "<style scoped>\n",
       "    .dataframe tbody tr th:only-of-type {\n",
       "        vertical-align: middle;\n",
       "    }\n",
       "\n",
       "    .dataframe tbody tr th {\n",
       "        vertical-align: top;\n",
       "    }\n",
       "\n",
       "    .dataframe thead th {\n",
       "        text-align: right;\n",
       "    }\n",
       "</style>\n",
       "<table border=\"1\" class=\"dataframe\">\n",
       "  <thead>\n",
       "    <tr style=\"text-align: right;\">\n",
       "      <th></th>\n",
       "      <th>shop_name</th>\n",
       "      <th>shop_id</th>\n",
       "    </tr>\n",
       "  </thead>\n",
       "  <tbody>\n",
       "    <tr>\n",
       "      <th>0</th>\n",
       "      <td>!Якутск Орджоникидзе, 56 фран</td>\n",
       "      <td>0</td>\n",
       "    </tr>\n",
       "  </tbody>\n",
       "</table>\n",
       "</div>"
      ],
      "text/plain": [
       "                       shop_name  shop_id\n",
       "0  !Якутск Орджоникидзе, 56 фран        0"
      ]
     },
     "metadata": {},
     "output_type": "display_data"
    },
    {
     "data": {
      "text/html": [
       "<div>\n",
       "<style scoped>\n",
       "    .dataframe tbody tr th:only-of-type {\n",
       "        vertical-align: middle;\n",
       "    }\n",
       "\n",
       "    .dataframe tbody tr th {\n",
       "        vertical-align: top;\n",
       "    }\n",
       "\n",
       "    .dataframe thead th {\n",
       "        text-align: right;\n",
       "    }\n",
       "</style>\n",
       "<table border=\"1\" class=\"dataframe\">\n",
       "  <thead>\n",
       "    <tr style=\"text-align: right;\">\n",
       "      <th></th>\n",
       "      <th>item_category_name</th>\n",
       "      <th>item_category_id</th>\n",
       "    </tr>\n",
       "  </thead>\n",
       "  <tbody>\n",
       "    <tr>\n",
       "      <th>0</th>\n",
       "      <td>PC - Гарнитуры/Наушники</td>\n",
       "      <td>0</td>\n",
       "    </tr>\n",
       "  </tbody>\n",
       "</table>\n",
       "</div>"
      ],
      "text/plain": [
       "        item_category_name  item_category_id\n",
       "0  PC - Гарнитуры/Наушники                 0"
      ]
     },
     "metadata": {},
     "output_type": "display_data"
    },
    {
     "data": {
      "text/html": [
       "<div>\n",
       "<style scoped>\n",
       "    .dataframe tbody tr th:only-of-type {\n",
       "        vertical-align: middle;\n",
       "    }\n",
       "\n",
       "    .dataframe tbody tr th {\n",
       "        vertical-align: top;\n",
       "    }\n",
       "\n",
       "    .dataframe thead th {\n",
       "        text-align: right;\n",
       "    }\n",
       "</style>\n",
       "<table border=\"1\" class=\"dataframe\">\n",
       "  <thead>\n",
       "    <tr style=\"text-align: right;\">\n",
       "      <th></th>\n",
       "      <th>item_name</th>\n",
       "      <th>item_id</th>\n",
       "      <th>item_category_id</th>\n",
       "    </tr>\n",
       "  </thead>\n",
       "  <tbody>\n",
       "    <tr>\n",
       "      <th>0</th>\n",
       "      <td>! ВО ВЛАСТИ НАВАЖДЕНИЯ (ПЛАСТ.)         D</td>\n",
       "      <td>0</td>\n",
       "      <td>40</td>\n",
       "    </tr>\n",
       "  </tbody>\n",
       "</table>\n",
       "</div>"
      ],
      "text/plain": [
       "                                   item_name  item_id  item_category_id\n",
       "0  ! ВО ВЛАСТИ НАВАЖДЕНИЯ (ПЛАСТ.)         D        0                40"
      ]
     },
     "metadata": {},
     "output_type": "display_data"
    }
   ],
   "source": [
    "display(df_train.head(1))\n",
    "display(df_two.head(1))\n",
    "display(df_three.head(1))\n",
    "display(df_four.head(1))"
   ]
  },
  {
   "cell_type": "code",
   "execution_count": 19,
   "id": "3fa58baa-4042-4bb0-9388-5584aa760c44",
   "metadata": {},
   "outputs": [],
   "source": [
    "# df_one = sales_train # df_two = shops # df_three = item_categories # df_four = items\n",
    "\n",
    "def merge_files(df,df_two,df_three,df_four):\n",
    "    \n",
    "    ################################################## Features #####################################################################\n",
    "    df['year'] = df['date'].dt.year\n",
    "    df['month'] = df['date'].dt.month\n",
    "    df['tenure'] = df['date'].max() - df['date']\n",
    "    df['tenure'] = df['tenure'].apply(lambda x: x.total_seconds())\n",
    "    df['tenure'] = df['tenure'] / 86400\n",
    "    df['tenure'] = df['tenure'].astype(int)\n",
    "    \n",
    "    ################################################## Collapse files to per month ##################################################\n",
    "    # df = df.groupby(['date_block_num','shop_id','item_id'],as_index=False).agg({'month':'last','item_price':'last','qt_sold_per_day':'sum'}).reset_index(drop=True)\n",
    "    # df = df.rename(columns={'qt_sold_per_day':'item_cnt_month'})\n",
    "\n",
    "\n",
    "    ################################################## Merging files ################################################################   \n",
    "    df_merged = pd.merge(left=df,right=df_four,how='left',on='item_id')\n",
    "    df_merged = df_merged.loc[:,['date_block_num','month','tenure','shop_id','item_id','item_price','qt_sold_per_day']]\n",
    "\n",
    "    ################################################## Output #######################################################################\n",
    "    return df_merged\n"
   ]
  },
  {
   "cell_type": "code",
   "execution_count": 20,
   "id": "e1bb438d-d128-429c-b25e-979b3ab83607",
   "metadata": {},
   "outputs": [
    {
     "data": {
      "text/html": [
       "<div>\n",
       "<style scoped>\n",
       "    .dataframe tbody tr th:only-of-type {\n",
       "        vertical-align: middle;\n",
       "    }\n",
       "\n",
       "    .dataframe tbody tr th {\n",
       "        vertical-align: top;\n",
       "    }\n",
       "\n",
       "    .dataframe thead th {\n",
       "        text-align: right;\n",
       "    }\n",
       "</style>\n",
       "<table border=\"1\" class=\"dataframe\">\n",
       "  <thead>\n",
       "    <tr style=\"text-align: right;\">\n",
       "      <th></th>\n",
       "      <th>date_block_num</th>\n",
       "      <th>month</th>\n",
       "      <th>tenure</th>\n",
       "      <th>shop_id</th>\n",
       "      <th>item_id</th>\n",
       "      <th>item_price</th>\n",
       "      <th>qt_sold_per_day</th>\n",
       "    </tr>\n",
       "  </thead>\n",
       "  <tbody>\n",
       "    <tr>\n",
       "      <th>0</th>\n",
       "      <td>0</td>\n",
       "      <td>1</td>\n",
       "      <td>1032</td>\n",
       "      <td>59</td>\n",
       "      <td>22154</td>\n",
       "      <td>999.00</td>\n",
       "      <td>1.0</td>\n",
       "    </tr>\n",
       "    <tr>\n",
       "      <th>1</th>\n",
       "      <td>0</td>\n",
       "      <td>1</td>\n",
       "      <td>1031</td>\n",
       "      <td>25</td>\n",
       "      <td>2552</td>\n",
       "      <td>899.00</td>\n",
       "      <td>1.0</td>\n",
       "    </tr>\n",
       "    <tr>\n",
       "      <th>2</th>\n",
       "      <td>0</td>\n",
       "      <td>1</td>\n",
       "      <td>1029</td>\n",
       "      <td>25</td>\n",
       "      <td>2552</td>\n",
       "      <td>899.00</td>\n",
       "      <td>-1.0</td>\n",
       "    </tr>\n",
       "    <tr>\n",
       "      <th>3</th>\n",
       "      <td>0</td>\n",
       "      <td>1</td>\n",
       "      <td>1028</td>\n",
       "      <td>25</td>\n",
       "      <td>2554</td>\n",
       "      <td>1709.05</td>\n",
       "      <td>1.0</td>\n",
       "    </tr>\n",
       "    <tr>\n",
       "      <th>4</th>\n",
       "      <td>0</td>\n",
       "      <td>1</td>\n",
       "      <td>1019</td>\n",
       "      <td>25</td>\n",
       "      <td>2555</td>\n",
       "      <td>1099.00</td>\n",
       "      <td>1.0</td>\n",
       "    </tr>\n",
       "    <tr>\n",
       "      <th>...</th>\n",
       "      <td>...</td>\n",
       "      <td>...</td>\n",
       "      <td>...</td>\n",
       "      <td>...</td>\n",
       "      <td>...</td>\n",
       "      <td>...</td>\n",
       "      <td>...</td>\n",
       "    </tr>\n",
       "    <tr>\n",
       "      <th>2935844</th>\n",
       "      <td>33</td>\n",
       "      <td>10</td>\n",
       "      <td>21</td>\n",
       "      <td>25</td>\n",
       "      <td>7409</td>\n",
       "      <td>299.00</td>\n",
       "      <td>1.0</td>\n",
       "    </tr>\n",
       "    <tr>\n",
       "      <th>2935845</th>\n",
       "      <td>33</td>\n",
       "      <td>10</td>\n",
       "      <td>22</td>\n",
       "      <td>25</td>\n",
       "      <td>7460</td>\n",
       "      <td>299.00</td>\n",
       "      <td>1.0</td>\n",
       "    </tr>\n",
       "    <tr>\n",
       "      <th>2935846</th>\n",
       "      <td>33</td>\n",
       "      <td>10</td>\n",
       "      <td>17</td>\n",
       "      <td>25</td>\n",
       "      <td>7459</td>\n",
       "      <td>349.00</td>\n",
       "      <td>1.0</td>\n",
       "    </tr>\n",
       "    <tr>\n",
       "      <th>2935847</th>\n",
       "      <td>33</td>\n",
       "      <td>10</td>\n",
       "      <td>9</td>\n",
       "      <td>25</td>\n",
       "      <td>7440</td>\n",
       "      <td>299.00</td>\n",
       "      <td>1.0</td>\n",
       "    </tr>\n",
       "    <tr>\n",
       "      <th>2935848</th>\n",
       "      <td>33</td>\n",
       "      <td>10</td>\n",
       "      <td>28</td>\n",
       "      <td>25</td>\n",
       "      <td>7460</td>\n",
       "      <td>299.00</td>\n",
       "      <td>1.0</td>\n",
       "    </tr>\n",
       "  </tbody>\n",
       "</table>\n",
       "<p>2935849 rows × 7 columns</p>\n",
       "</div>"
      ],
      "text/plain": [
       "         date_block_num  month  tenure  shop_id  item_id  item_price  \\\n",
       "0                     0      1    1032       59    22154      999.00   \n",
       "1                     0      1    1031       25     2552      899.00   \n",
       "2                     0      1    1029       25     2552      899.00   \n",
       "3                     0      1    1028       25     2554     1709.05   \n",
       "4                     0      1    1019       25     2555     1099.00   \n",
       "...                 ...    ...     ...      ...      ...         ...   \n",
       "2935844              33     10      21       25     7409      299.00   \n",
       "2935845              33     10      22       25     7460      299.00   \n",
       "2935846              33     10      17       25     7459      349.00   \n",
       "2935847              33     10       9       25     7440      299.00   \n",
       "2935848              33     10      28       25     7460      299.00   \n",
       "\n",
       "         qt_sold_per_day  \n",
       "0                    1.0  \n",
       "1                    1.0  \n",
       "2                   -1.0  \n",
       "3                    1.0  \n",
       "4                    1.0  \n",
       "...                  ...  \n",
       "2935844              1.0  \n",
       "2935845              1.0  \n",
       "2935846              1.0  \n",
       "2935847              1.0  \n",
       "2935848              1.0  \n",
       "\n",
       "[2935849 rows x 7 columns]"
      ]
     },
     "execution_count": 20,
     "metadata": {},
     "output_type": "execute_result"
    }
   ],
   "source": [
    "df_merged = merge_files(df_train,df_two,df_three,df_four)\n",
    "df_merged"
   ]
  },
  {
   "cell_type": "code",
   "execution_count": 35,
   "id": "13388d8a-af13-46dc-a644-cc4674cc268f",
   "metadata": {},
   "outputs": [
    {
     "name": "stdout",
     "output_type": "stream",
     "text": [
      "<class 'pandas.core.frame.DataFrame'>\n",
      "Int64Index: 2935849 entries, 0 to 2935848\n",
      "Data columns (total 8 columns):\n",
      " #   Column           Dtype  \n",
      "---  ------           -----  \n",
      " 0   date_block_num   int64  \n",
      " 1   month            int64  \n",
      " 2   tenure           int64  \n",
      " 3   shop_id          int64  \n",
      " 4   item_id          int64  \n",
      " 5   item_price       float64\n",
      " 6   qt_sold_per_day  float64\n",
      " 7   cluster          int32  \n",
      "dtypes: float64(2), int32(1), int64(5)\n",
      "memory usage: 190.4 MB\n"
     ]
    }
   ],
   "source": [
    "df_merged.info()"
   ]
  },
  {
   "cell_type": "code",
   "execution_count": 36,
   "id": "00e1747b-4ad4-4a10-acc0-694bb19bf355",
   "metadata": {},
   "outputs": [
    {
     "data": {
      "text/html": [
       "<div>\n",
       "<style scoped>\n",
       "    .dataframe tbody tr th:only-of-type {\n",
       "        vertical-align: middle;\n",
       "    }\n",
       "\n",
       "    .dataframe tbody tr th {\n",
       "        vertical-align: top;\n",
       "    }\n",
       "\n",
       "    .dataframe thead th {\n",
       "        text-align: right;\n",
       "    }\n",
       "</style>\n",
       "<table border=\"1\" class=\"dataframe\">\n",
       "  <thead>\n",
       "    <tr style=\"text-align: right;\">\n",
       "      <th></th>\n",
       "      <th>date_block_num</th>\n",
       "      <th>month</th>\n",
       "      <th>tenure</th>\n",
       "      <th>shop_id</th>\n",
       "      <th>item_id</th>\n",
       "      <th>item_price</th>\n",
       "      <th>qt_sold_per_day</th>\n",
       "      <th>cluster</th>\n",
       "    </tr>\n",
       "  </thead>\n",
       "  <tbody>\n",
       "    <tr>\n",
       "      <th>0</th>\n",
       "      <td>0</td>\n",
       "      <td>1</td>\n",
       "      <td>1032</td>\n",
       "      <td>59</td>\n",
       "      <td>22154</td>\n",
       "      <td>999.00</td>\n",
       "      <td>1.0</td>\n",
       "      <td>3</td>\n",
       "    </tr>\n",
       "    <tr>\n",
       "      <th>1</th>\n",
       "      <td>0</td>\n",
       "      <td>1</td>\n",
       "      <td>1031</td>\n",
       "      <td>25</td>\n",
       "      <td>2552</td>\n",
       "      <td>899.00</td>\n",
       "      <td>1.0</td>\n",
       "      <td>2</td>\n",
       "    </tr>\n",
       "    <tr>\n",
       "      <th>3</th>\n",
       "      <td>0</td>\n",
       "      <td>1</td>\n",
       "      <td>1028</td>\n",
       "      <td>25</td>\n",
       "      <td>2554</td>\n",
       "      <td>1709.05</td>\n",
       "      <td>1.0</td>\n",
       "      <td>2</td>\n",
       "    </tr>\n",
       "    <tr>\n",
       "      <th>4</th>\n",
       "      <td>0</td>\n",
       "      <td>1</td>\n",
       "      <td>1019</td>\n",
       "      <td>25</td>\n",
       "      <td>2555</td>\n",
       "      <td>1099.00</td>\n",
       "      <td>1.0</td>\n",
       "      <td>2</td>\n",
       "    </tr>\n",
       "    <tr>\n",
       "      <th>5</th>\n",
       "      <td>0</td>\n",
       "      <td>1</td>\n",
       "      <td>1024</td>\n",
       "      <td>25</td>\n",
       "      <td>2564</td>\n",
       "      <td>349.00</td>\n",
       "      <td>1.0</td>\n",
       "      <td>2</td>\n",
       "    </tr>\n",
       "    <tr>\n",
       "      <th>...</th>\n",
       "      <td>...</td>\n",
       "      <td>...</td>\n",
       "      <td>...</td>\n",
       "      <td>...</td>\n",
       "      <td>...</td>\n",
       "      <td>...</td>\n",
       "      <td>...</td>\n",
       "      <td>...</td>\n",
       "    </tr>\n",
       "    <tr>\n",
       "      <th>2935844</th>\n",
       "      <td>33</td>\n",
       "      <td>10</td>\n",
       "      <td>21</td>\n",
       "      <td>25</td>\n",
       "      <td>7409</td>\n",
       "      <td>299.00</td>\n",
       "      <td>1.0</td>\n",
       "      <td>2</td>\n",
       "    </tr>\n",
       "    <tr>\n",
       "      <th>2935845</th>\n",
       "      <td>33</td>\n",
       "      <td>10</td>\n",
       "      <td>22</td>\n",
       "      <td>25</td>\n",
       "      <td>7460</td>\n",
       "      <td>299.00</td>\n",
       "      <td>1.0</td>\n",
       "      <td>2</td>\n",
       "    </tr>\n",
       "    <tr>\n",
       "      <th>2935846</th>\n",
       "      <td>33</td>\n",
       "      <td>10</td>\n",
       "      <td>17</td>\n",
       "      <td>25</td>\n",
       "      <td>7459</td>\n",
       "      <td>349.00</td>\n",
       "      <td>1.0</td>\n",
       "      <td>2</td>\n",
       "    </tr>\n",
       "    <tr>\n",
       "      <th>2935847</th>\n",
       "      <td>33</td>\n",
       "      <td>10</td>\n",
       "      <td>9</td>\n",
       "      <td>25</td>\n",
       "      <td>7440</td>\n",
       "      <td>299.00</td>\n",
       "      <td>1.0</td>\n",
       "      <td>2</td>\n",
       "    </tr>\n",
       "    <tr>\n",
       "      <th>2935848</th>\n",
       "      <td>33</td>\n",
       "      <td>10</td>\n",
       "      <td>28</td>\n",
       "      <td>25</td>\n",
       "      <td>7460</td>\n",
       "      <td>299.00</td>\n",
       "      <td>1.0</td>\n",
       "      <td>2</td>\n",
       "    </tr>\n",
       "  </tbody>\n",
       "</table>\n",
       "<p>2928493 rows × 8 columns</p>\n",
       "</div>"
      ],
      "text/plain": [
       "         date_block_num  month  tenure  shop_id  item_id  item_price  \\\n",
       "0                     0      1    1032       59    22154      999.00   \n",
       "1                     0      1    1031       25     2552      899.00   \n",
       "3                     0      1    1028       25     2554     1709.05   \n",
       "4                     0      1    1019       25     2555     1099.00   \n",
       "5                     0      1    1024       25     2564      349.00   \n",
       "...                 ...    ...     ...      ...      ...         ...   \n",
       "2935844              33     10      21       25     7409      299.00   \n",
       "2935845              33     10      22       25     7460      299.00   \n",
       "2935846              33     10      17       25     7459      349.00   \n",
       "2935847              33     10       9       25     7440      299.00   \n",
       "2935848              33     10      28       25     7460      299.00   \n",
       "\n",
       "         qt_sold_per_day  cluster  \n",
       "0                    1.0        3  \n",
       "1                    1.0        2  \n",
       "3                    1.0        2  \n",
       "4                    1.0        2  \n",
       "5                    1.0        2  \n",
       "...                  ...      ...  \n",
       "2935844              1.0        2  \n",
       "2935845              1.0        2  \n",
       "2935846              1.0        2  \n",
       "2935847              1.0        2  \n",
       "2935848              1.0        2  \n",
       "\n",
       "[2928493 rows x 8 columns]"
      ]
     },
     "execution_count": 36,
     "metadata": {},
     "output_type": "execute_result"
    }
   ],
   "source": [
    "df_merged = df_merged[df_merged['qt_sold_per_day'] > 0]\n",
    "df_merged"
   ]
  },
  {
   "cell_type": "code",
   "execution_count": 37,
   "id": "9565aecb-78a0-418a-a018-7efe824e2eb1",
   "metadata": {},
   "outputs": [
    {
     "data": {
      "text/plain": [
       "'shape of df_one    = (2935849, 9)'"
      ]
     },
     "metadata": {},
     "output_type": "display_data"
    },
    {
     "data": {
      "text/plain": [
       "'shape of df_merged = (2928493, 8)'"
      ]
     },
     "metadata": {},
     "output_type": "display_data"
    },
    {
     "name": "stdout",
     "output_type": "stream",
     "text": [
      "date_block_num     0\n",
      "month              0\n",
      "tenure             0\n",
      "shop_id            0\n",
      "item_id            0\n",
      "item_price         0\n",
      "qt_sold_per_day    0\n",
      "cluster            0\n",
      "dtype: int64\n"
     ]
    }
   ],
   "source": [
    "display(f'shape of df_one    = {df_train.shape}')\n",
    "display(f'shape of df_merged = {df_merged.shape}')\n",
    "print(f'{df_merged.isna().sum()}')"
   ]
  },
  {
   "cell_type": "code",
   "execution_count": 38,
   "id": "55d93bf3-4da8-4211-abe6-bf68b73cb3b7",
   "metadata": {},
   "outputs": [],
   "source": [
    "# df_merged['item_name'] = df_merged['item_name'].astype('category')\n",
    "# df_merged['item_name'] = df_merged['item_name'].cat.codes\n",
    "# df_merged"
   ]
  },
  {
   "cell_type": "markdown",
   "id": "71766f65-dc30-480b-ad60-76ec20e51358",
   "metadata": {},
   "source": [
    "# Monovariate analysis"
   ]
  },
  {
   "cell_type": "code",
   "execution_count": 39,
   "id": "1ef95308-a5d5-49b6-bd52-171350f1eef9",
   "metadata": {},
   "outputs": [
    {
     "data": {
      "image/png": "[encoded data removed]",
      "text/plain": [
       "<Figure size 3600x300 with 1 Axes>"
      ]
     },
     "metadata": {},
     "output_type": "display_data"
    }
   ],
   "source": [
    "ax,fig = plt.subplots(figsize=(12,1),dpi=300)\n",
    "ax = sns.boxenplot(x=df_merged['qt_sold_per_day'])"
   ]
  },
  {
   "cell_type": "code",
   "execution_count": 40,
   "id": "a383a38e-eec4-4190-ae9e-06c089b6282e",
   "metadata": {},
   "outputs": [
    {
     "data": {
      "text/html": [
       "<div>\n",
       "<style scoped>\n",
       "    .dataframe tbody tr th:only-of-type {\n",
       "        vertical-align: middle;\n",
       "    }\n",
       "\n",
       "    .dataframe tbody tr th {\n",
       "        vertical-align: top;\n",
       "    }\n",
       "\n",
       "    .dataframe thead th {\n",
       "        text-align: right;\n",
       "    }\n",
       "</style>\n",
       "<table border=\"1\" class=\"dataframe\">\n",
       "  <thead>\n",
       "    <tr style=\"text-align: right;\">\n",
       "      <th></th>\n",
       "      <th>date_block_num</th>\n",
       "      <th>month</th>\n",
       "      <th>tenure</th>\n",
       "      <th>shop_id</th>\n",
       "      <th>item_id</th>\n",
       "      <th>item_price</th>\n",
       "      <th>qt_sold_per_day</th>\n",
       "      <th>cluster</th>\n",
       "    </tr>\n",
       "  </thead>\n",
       "  <tbody>\n",
       "    <tr>\n",
       "      <th>0</th>\n",
       "      <td>0</td>\n",
       "      <td>1</td>\n",
       "      <td>1032</td>\n",
       "      <td>59</td>\n",
       "      <td>22154</td>\n",
       "      <td>999.0</td>\n",
       "      <td>1.0</td>\n",
       "      <td>3</td>\n",
       "    </tr>\n",
       "  </tbody>\n",
       "</table>\n",
       "</div>"
      ],
      "text/plain": [
       "   date_block_num  month  tenure  shop_id  item_id  item_price  \\\n",
       "0               0      1    1032       59    22154       999.0   \n",
       "\n",
       "   qt_sold_per_day  cluster  \n",
       "0              1.0        3  "
      ]
     },
     "execution_count": 40,
     "metadata": {},
     "output_type": "execute_result"
    }
   ],
   "source": [
    "df_merged_outlier = df_merged.copy()\n",
    "\n",
    "lower_bound = df_merged_outlier['qt_sold_per_day'].mean() - 3*df_merged_outlier['qt_sold_per_day'].std()\n",
    "higher_bound = df_merged_outlier['qt_sold_per_day'].mean() + 3*df_merged_outlier['qt_sold_per_day'].std()\n",
    "\n",
    "df_merged_outlier = df_merged_outlier[(df_merged_outlier['qt_sold_per_day'] > lower_bound) & (df_merged_outlier['qt_sold_per_day'] < higher_bound)]\n",
    "df_merged_outlier.head(1)"
   ]
  },
  {
   "cell_type": "code",
   "execution_count": 41,
   "id": "387f658e-6518-4b1b-a506-492a669a16e9",
   "metadata": {},
   "outputs": [
    {
     "data": {
      "image/png": "[encoded data removed]",
      "text/plain": [
       "<Figure size 3600x300 with 1 Axes>"
      ]
     },
     "metadata": {},
     "output_type": "display_data"
    }
   ],
   "source": [
    "df_merged_outlier = df_merged_outlier[df_merged_outlier['qt_sold_per_day'] > 0]\n",
    "df_merged_outlier = df_merged_outlier.reset_index(drop=True)\n",
    "\n",
    "ax,fig = plt.subplots(figsize=(12,1),dpi=300)\n",
    "ax = sns.boxenplot(x=df_merged_outlier['qt_sold_per_day'])"
   ]
  },
  {
   "cell_type": "code",
   "execution_count": 42,
   "id": "4f2c934c-bee0-4faa-ac15-4e7c53a15f45",
   "metadata": {},
   "outputs": [
    {
     "data": {
      "image/png": "[encoded data removed]",
      "text/plain": [
       "<Figure size 3600x300 with 1 Axes>"
      ]
     },
     "metadata": {},
     "output_type": "display_data"
    }
   ],
   "source": [
    "ax,fig = plt.subplots(figsize=(12,1),dpi=300)\n",
    "ax = sns.boxenplot(x=df_merged_outlier['item_price'])"
   ]
  },
  {
   "cell_type": "code",
   "execution_count": 43,
   "id": "d169bfd1-c794-407a-87bf-629ceac22074",
   "metadata": {},
   "outputs": [
    {
     "data": {
      "text/html": [
       "<div>\n",
       "<style scoped>\n",
       "    .dataframe tbody tr th:only-of-type {\n",
       "        vertical-align: middle;\n",
       "    }\n",
       "\n",
       "    .dataframe tbody tr th {\n",
       "        vertical-align: top;\n",
       "    }\n",
       "\n",
       "    .dataframe thead th {\n",
       "        text-align: right;\n",
       "    }\n",
       "</style>\n",
       "<table border=\"1\" class=\"dataframe\">\n",
       "  <thead>\n",
       "    <tr style=\"text-align: right;\">\n",
       "      <th></th>\n",
       "      <th>date_block_num</th>\n",
       "      <th>month</th>\n",
       "      <th>tenure</th>\n",
       "      <th>shop_id</th>\n",
       "      <th>item_id</th>\n",
       "      <th>item_price</th>\n",
       "      <th>qt_sold_per_day</th>\n",
       "      <th>cluster</th>\n",
       "    </tr>\n",
       "  </thead>\n",
       "  <tbody>\n",
       "    <tr>\n",
       "      <th>0</th>\n",
       "      <td>0</td>\n",
       "      <td>1</td>\n",
       "      <td>1032</td>\n",
       "      <td>59</td>\n",
       "      <td>22154</td>\n",
       "      <td>999.0</td>\n",
       "      <td>1.0</td>\n",
       "      <td>3</td>\n",
       "    </tr>\n",
       "  </tbody>\n",
       "</table>\n",
       "</div>"
      ],
      "text/plain": [
       "   date_block_num  month  tenure  shop_id  item_id  item_price  \\\n",
       "0               0      1    1032       59    22154       999.0   \n",
       "\n",
       "   qt_sold_per_day  cluster  \n",
       "0              1.0        3  "
      ]
     },
     "execution_count": 43,
     "metadata": {},
     "output_type": "execute_result"
    }
   ],
   "source": [
    "lower_bound = df_merged_outlier['item_price'].mean() - 3*df_merged_outlier['item_price'].std()\n",
    "higher_bound = df_merged_outlier['item_price'].mean() + 3*df_merged_outlier['item_price'].std()\n",
    "\n",
    "df_merged_outlier = df_merged_outlier[(df_merged_outlier['item_price'] > lower_bound) & (df_merged_outlier['item_price'] < higher_bound)]\n",
    "df_merged_outlier.head(1)"
   ]
  },
  {
   "cell_type": "code",
   "execution_count": 44,
   "id": "721ac605-ccd8-45b2-93bf-2c4984eb8e6c",
   "metadata": {},
   "outputs": [],
   "source": [
    "df_merged_outlier = df_merged_outlier[df_merged_outlier['item_price'] > 0]\n",
    "df_merged_outlier = df_merged_outlier.reset_index(drop=True)"
   ]
  },
  {
   "cell_type": "code",
   "execution_count": 45,
   "id": "e9e12964-1e82-4f44-aa9a-552ecb12a146",
   "metadata": {},
   "outputs": [
    {
     "data": {
      "image/png": "[encoded data removed]",
      "text/plain": [
       "<Figure size 3600x300 with 1 Axes>"
      ]
     },
     "metadata": {},
     "output_type": "display_data"
    }
   ],
   "source": [
    "ax,fig = plt.subplots(figsize=(12,1),dpi=300)\n",
    "ax = sns.boxenplot(x=df_merged_outlier['item_price'])"
   ]
  },
  {
   "cell_type": "code",
   "execution_count": 46,
   "id": "cfb0bdad-e005-40b6-8b51-192d1738c901",
   "metadata": {},
   "outputs": [
    {
     "data": {
      "text/plain": [
       "0.07"
      ]
     },
     "execution_count": 46,
     "metadata": {},
     "output_type": "execute_result"
    }
   ],
   "source": [
    "df_merged_outlier['item_price'].min()"
   ]
  },
  {
   "cell_type": "markdown",
   "id": "c2efc8e3-357a-4410-a308-d48cfd41403c",
   "metadata": {},
   "source": [
    "# Bivariate analysis"
   ]
  },
  {
   "cell_type": "code",
   "execution_count": 47,
   "id": "5a471760-35ab-49e4-a8fe-2fcd009c2c63",
   "metadata": {},
   "outputs": [
    {
     "data": {
      "image/png": "[encoded data removed]",
      "text/plain": [
       "<Figure size 3600x600 with 1 Axes>"
      ]
     },
     "metadata": {},
     "output_type": "display_data"
    }
   ],
   "source": [
    "ax,fig = plt.subplots(figsize=(12,2),dpi=300)\n",
    "ax = sns.barplot(x=df_merged_outlier['shop_id'],y=df_merged_outlier['qt_sold_per_day'])\n",
    "plt.xticks(rotation=0,fontsize=5)\n",
    "plt.yticks(rotation=0,fontsize=6);"
   ]
  },
  {
   "cell_type": "code",
   "execution_count": 48,
   "id": "ae75a51f-c1aa-4d94-b451-2735169c37d6",
   "metadata": {},
   "outputs": [],
   "source": [
    "# ax,fig = plt.subplots(figsize=(12,2),dpi=300)\n",
    "# ax = sns.barplot(x=df_merged_outlier['item_category_id'],y=df_merged_outlier['qt_sold_per_day'])\n",
    "# plt.xticks(rotation=0,fontsize=5)\n",
    "# plt.yticks(rotation=0,fontsize=6);"
   ]
  },
  {
   "cell_type": "markdown",
   "id": "701fadd4-c3cf-435a-8a41-82a0194f263b",
   "metadata": {},
   "source": [
    "# Correlation matrix"
   ]
  },
  {
   "cell_type": "code",
   "execution_count": 49,
   "id": "aef0e726-eb90-449f-91f2-cac3ef5f5599",
   "metadata": {},
   "outputs": [
    {
     "data": {
      "image/png": "[encoded data removed]",
      "text/plain": [
       "<Figure size 6000x2400 with 2 Axes>"
      ]
     },
     "metadata": {},
     "output_type": "display_data"
    }
   ],
   "source": [
    "cor  = df_merged_outlier.corr()\n",
    "\n",
    "ax,fig = plt.subplots(figsize=(20,8),dpi=300)\n",
    "ax = sns.heatmap(data=cor,annot=True)"
   ]
  },
  {
   "cell_type": "code",
   "execution_count": 53,
   "id": "8047d5f8-07ef-4901-81bb-8e58778d3775",
   "metadata": {},
   "outputs": [
    {
     "data": {
      "text/html": [
       "<div>\n",
       "<style scoped>\n",
       "    .dataframe tbody tr th:only-of-type {\n",
       "        vertical-align: middle;\n",
       "    }\n",
       "\n",
       "    .dataframe tbody tr th {\n",
       "        vertical-align: top;\n",
       "    }\n",
       "\n",
       "    .dataframe thead th {\n",
       "        text-align: right;\n",
       "    }\n",
       "</style>\n",
       "<table border=\"1\" class=\"dataframe\">\n",
       "  <thead>\n",
       "    <tr style=\"text-align: right;\">\n",
       "      <th></th>\n",
       "      <th>features</th>\n",
       "      <th>vif_Factor</th>\n",
       "      <th>vif_Factor_Description</th>\n",
       "    </tr>\n",
       "  </thead>\n",
       "  <tbody>\n",
       "    <tr>\n",
       "      <th>0</th>\n",
       "      <td>date_block_num</td>\n",
       "      <td>7.267273</td>\n",
       "      <td>Concerning</td>\n",
       "    </tr>\n",
       "    <tr>\n",
       "      <th>2</th>\n",
       "      <td>tenure</td>\n",
       "      <td>8.160566</td>\n",
       "      <td>Concerning</td>\n",
       "    </tr>\n",
       "    <tr>\n",
       "      <th>3</th>\n",
       "      <td>shop_id</td>\n",
       "      <td>5.154723</td>\n",
       "      <td>Concerning</td>\n",
       "    </tr>\n",
       "    <tr>\n",
       "      <th>7</th>\n",
       "      <td>cluster</td>\n",
       "      <td>10.028904</td>\n",
       "      <td>Problematic</td>\n",
       "    </tr>\n",
       "  </tbody>\n",
       "</table>\n",
       "</div>"
      ],
      "text/plain": [
       "         features  vif_Factor vif_Factor_Description\n",
       "0  date_block_num    7.267273             Concerning\n",
       "2          tenure    8.160566             Concerning\n",
       "3         shop_id    5.154723             Concerning\n",
       "7         cluster   10.028904            Problematic"
      ]
     },
     "execution_count": 53,
     "metadata": {},
     "output_type": "execute_result"
    }
   ],
   "source": [
    "from statsmodels.stats.outliers_influence import variance_inflation_factor\n",
    "\n",
    "vif = pd.DataFrame()\n",
    "vif['features'] = df_merged_outlier.columns\n",
    "vif['vif_Factor'] = [variance_inflation_factor(df_merged_outlier.values, i) for i in range(df_merged_outlier.shape[1])]\n",
    "vif.loc[(vif['vif_Factor'] >= 5) & (vif['vif_Factor'] < 10), 'vif_Factor_Description'] = 'Concerning'\n",
    "vif.loc[vif['vif_Factor'] >= 10, 'vif_Factor_Description'] = 'Problematic'\n",
    "vif[vif['vif_Factor_Description'].isna() == False]"
   ]
  },
  {
   "cell_type": "markdown",
   "id": "a91d5559-741e-43ab-a5e9-19c723c8064d",
   "metadata": {},
   "source": [
    "# Step 1: Predict missing prices from the test dataset"
   ]
  },
  {
   "cell_type": "markdown",
   "id": "88005136-6ee4-4524-bf86-bc6c7bb2ccd4",
   "metadata": {},
   "source": [
    "### Get the test data"
   ]
  },
  {
   "cell_type": "code",
   "execution_count": 54,
   "id": "e6a53536-014e-4253-bb96-5d68bfef0ec8",
   "metadata": {},
   "outputs": [],
   "source": [
    "file_5='data/test.csv'"
   ]
  },
  {
   "cell_type": "code",
   "execution_count": 55,
   "id": "d3214de2-2a51-4eab-8074-c7d0a6898b3f",
   "metadata": {},
   "outputs": [
    {
     "name": "stdout",
     "output_type": "stream",
     "text": [
      "(214200, 3)\n"
     ]
    },
    {
     "data": {
      "text/html": [
       "<div>\n",
       "<style scoped>\n",
       "    .dataframe tbody tr th:only-of-type {\n",
       "        vertical-align: middle;\n",
       "    }\n",
       "\n",
       "    .dataframe tbody tr th {\n",
       "        vertical-align: top;\n",
       "    }\n",
       "\n",
       "    .dataframe thead th {\n",
       "        text-align: right;\n",
       "    }\n",
       "</style>\n",
       "<table border=\"1\" class=\"dataframe\">\n",
       "  <thead>\n",
       "    <tr style=\"text-align: right;\">\n",
       "      <th></th>\n",
       "      <th>ID</th>\n",
       "      <th>shop_id</th>\n",
       "      <th>item_id</th>\n",
       "    </tr>\n",
       "  </thead>\n",
       "  <tbody>\n",
       "    <tr>\n",
       "      <th>0</th>\n",
       "      <td>0</td>\n",
       "      <td>5</td>\n",
       "      <td>5037</td>\n",
       "    </tr>\n",
       "    <tr>\n",
       "      <th>1</th>\n",
       "      <td>1</td>\n",
       "      <td>5</td>\n",
       "      <td>5320</td>\n",
       "    </tr>\n",
       "  </tbody>\n",
       "</table>\n",
       "</div>"
      ],
      "text/plain": [
       "   ID  shop_id  item_id\n",
       "0   0        5     5037\n",
       "1   1        5     5320"
      ]
     },
     "execution_count": 55,
     "metadata": {},
     "output_type": "execute_result"
    }
   ],
   "source": [
    "df_test = pd.read_csv(file_5)\n",
    "print(df_test.shape)\n",
    "df_test.head(2)"
   ]
  },
  {
   "cell_type": "markdown",
   "id": "58f67bc9-5c41-4270-b366-e8d42e3fb1c8",
   "metadata": {},
   "source": [
    "### Get the average price of items through the years"
   ]
  },
  {
   "cell_type": "code",
   "execution_count": 56,
   "id": "4c067e0d-1418-4ad0-b4c8-3649e7cf9141",
   "metadata": {},
   "outputs": [
    {
     "name": "stdout",
     "output_type": "stream",
     "text": [
      "(21567, 2)\n"
     ]
    },
    {
     "data": {
      "text/html": [
       "<div>\n",
       "<style scoped>\n",
       "    .dataframe tbody tr th:only-of-type {\n",
       "        vertical-align: middle;\n",
       "    }\n",
       "\n",
       "    .dataframe tbody tr th {\n",
       "        vertical-align: top;\n",
       "    }\n",
       "\n",
       "    .dataframe thead th {\n",
       "        text-align: right;\n",
       "    }\n",
       "</style>\n",
       "<table border=\"1\" class=\"dataframe\">\n",
       "  <thead>\n",
       "    <tr style=\"text-align: right;\">\n",
       "      <th></th>\n",
       "      <th>item_id</th>\n",
       "      <th>item_price</th>\n",
       "    </tr>\n",
       "  </thead>\n",
       "  <tbody>\n",
       "    <tr>\n",
       "      <th>0</th>\n",
       "      <td>0</td>\n",
       "      <td>58.0</td>\n",
       "    </tr>\n",
       "  </tbody>\n",
       "</table>\n",
       "</div>"
      ],
      "text/plain": [
       "   item_id  item_price\n",
       "0        0        58.0"
      ]
     },
     "execution_count": 56,
     "metadata": {},
     "output_type": "execute_result"
    }
   ],
   "source": [
    "sales = df_merged_outlier.groupby(by=['item_id'],as_index=False)['item_price'].agg('last')\n",
    "print(sales.shape)\n",
    "sales.head(1)"
   ]
  },
  {
   "cell_type": "markdown",
   "id": "8737a8c1-2337-4d5d-a43f-5ded95f26d76",
   "metadata": {},
   "source": [
    "### Iterate through the test data & fill in the prices"
   ]
  },
  {
   "cell_type": "code",
   "execution_count": 57,
   "id": "597cbb9b-4097-4b12-aa93-c2b2a13163ee",
   "metadata": {},
   "outputs": [],
   "source": [
    "df_test_prices = df_test.copy()\n",
    "df_test_prices['item_price'] = 0"
   ]
  },
  {
   "cell_type": "code",
   "execution_count": 58,
   "id": "0e507ec3-b743-4d42-987d-e72bde4d4258",
   "metadata": {},
   "outputs": [
    {
     "name": "stderr",
     "output_type": "stream",
     "text": [
      "21567it [06:38, 54.06it/s]\n"
     ]
    },
    {
     "data": {
      "text/html": [
       "<div>\n",
       "<style scoped>\n",
       "    .dataframe tbody tr th:only-of-type {\n",
       "        vertical-align: middle;\n",
       "    }\n",
       "\n",
       "    .dataframe tbody tr th {\n",
       "        vertical-align: top;\n",
       "    }\n",
       "\n",
       "    .dataframe thead th {\n",
       "        text-align: right;\n",
       "    }\n",
       "</style>\n",
       "<table border=\"1\" class=\"dataframe\">\n",
       "  <thead>\n",
       "    <tr style=\"text-align: right;\">\n",
       "      <th></th>\n",
       "      <th>ID</th>\n",
       "      <th>shop_id</th>\n",
       "      <th>item_id</th>\n",
       "      <th>item_price</th>\n",
       "    </tr>\n",
       "  </thead>\n",
       "  <tbody>\n",
       "    <tr>\n",
       "      <th>0</th>\n",
       "      <td>0</td>\n",
       "      <td>5</td>\n",
       "      <td>5037</td>\n",
       "      <td>1499.0</td>\n",
       "    </tr>\n",
       "    <tr>\n",
       "      <th>1</th>\n",
       "      <td>1</td>\n",
       "      <td>5</td>\n",
       "      <td>5320</td>\n",
       "      <td>0.0</td>\n",
       "    </tr>\n",
       "    <tr>\n",
       "      <th>2</th>\n",
       "      <td>2</td>\n",
       "      <td>5</td>\n",
       "      <td>5233</td>\n",
       "      <td>1199.0</td>\n",
       "    </tr>\n",
       "    <tr>\n",
       "      <th>3</th>\n",
       "      <td>3</td>\n",
       "      <td>5</td>\n",
       "      <td>5232</td>\n",
       "      <td>1199.0</td>\n",
       "    </tr>\n",
       "    <tr>\n",
       "      <th>4</th>\n",
       "      <td>4</td>\n",
       "      <td>5</td>\n",
       "      <td>5268</td>\n",
       "      <td>0.0</td>\n",
       "    </tr>\n",
       "  </tbody>\n",
       "</table>\n",
       "</div>"
      ],
      "text/plain": [
       "   ID  shop_id  item_id  item_price\n",
       "0   0        5     5037      1499.0\n",
       "1   1        5     5320         0.0\n",
       "2   2        5     5233      1199.0\n",
       "3   3        5     5232      1199.0\n",
       "4   4        5     5268         0.0"
      ]
     },
     "execution_count": 58,
     "metadata": {},
     "output_type": "execute_result"
    }
   ],
   "source": [
    "for i,item_A in tqdm(enumerate(sales['item_id'])):\n",
    "    for j,item_B in enumerate(df_test_prices['item_id']):\n",
    "        if item_A == item_B:\n",
    "            df_test_prices.loc[j,'item_price'] = sales.loc[i,'item_price']\n",
    "\n",
    "df_test_prices.head()"
   ]
  },
  {
   "cell_type": "markdown",
   "id": "e34ca87b-4ff8-40c4-b361-a2a16e62103e",
   "metadata": {},
   "source": [
    "### Filter the test data with prices / no prices"
   ]
  },
  {
   "cell_type": "code",
   "execution_count": 59,
   "id": "75399f68-18b0-4263-ae00-d075f8421641",
   "metadata": {},
   "outputs": [
    {
     "data": {
      "text/html": [
       "<div>\n",
       "<style scoped>\n",
       "    .dataframe tbody tr th:only-of-type {\n",
       "        vertical-align: middle;\n",
       "    }\n",
       "\n",
       "    .dataframe tbody tr th {\n",
       "        vertical-align: top;\n",
       "    }\n",
       "\n",
       "    .dataframe thead th {\n",
       "        text-align: right;\n",
       "    }\n",
       "</style>\n",
       "<table border=\"1\" class=\"dataframe\">\n",
       "  <thead>\n",
       "    <tr style=\"text-align: right;\">\n",
       "      <th></th>\n",
       "      <th>ID</th>\n",
       "      <th>shop_id</th>\n",
       "      <th>item_id</th>\n",
       "      <th>item_price</th>\n",
       "    </tr>\n",
       "  </thead>\n",
       "  <tbody>\n",
       "    <tr>\n",
       "      <th>1</th>\n",
       "      <td>1</td>\n",
       "      <td>5</td>\n",
       "      <td>5320</td>\n",
       "      <td>0.0</td>\n",
       "    </tr>\n",
       "    <tr>\n",
       "      <th>4</th>\n",
       "      <td>4</td>\n",
       "      <td>5</td>\n",
       "      <td>5268</td>\n",
       "      <td>0.0</td>\n",
       "    </tr>\n",
       "  </tbody>\n",
       "</table>\n",
       "</div>"
      ],
      "text/plain": [
       "   ID  shop_id  item_id  item_price\n",
       "1   1        5     5320         0.0\n",
       "4   4        5     5268         0.0"
      ]
     },
     "execution_count": 59,
     "metadata": {},
     "output_type": "execute_result"
    }
   ],
   "source": [
    "df_test_prices_test = df_test_prices.copy()\n",
    "df_test_prices_test = df_test_prices_test[df_test_prices_test['item_price']==0]\n",
    "df_test_prices_test.head(2)"
   ]
  },
  {
   "cell_type": "code",
   "execution_count": 60,
   "id": "bfa31ae8-bf99-4f60-99e6-54d2b2cc234f",
   "metadata": {},
   "outputs": [
    {
     "data": {
      "text/html": [
       "<div>\n",
       "<style scoped>\n",
       "    .dataframe tbody tr th:only-of-type {\n",
       "        vertical-align: middle;\n",
       "    }\n",
       "\n",
       "    .dataframe tbody tr th {\n",
       "        vertical-align: top;\n",
       "    }\n",
       "\n",
       "    .dataframe thead th {\n",
       "        text-align: right;\n",
       "    }\n",
       "</style>\n",
       "<table border=\"1\" class=\"dataframe\">\n",
       "  <thead>\n",
       "    <tr style=\"text-align: right;\">\n",
       "      <th></th>\n",
       "      <th>ID</th>\n",
       "      <th>shop_id</th>\n",
       "      <th>item_id</th>\n",
       "      <th>item_price</th>\n",
       "    </tr>\n",
       "  </thead>\n",
       "  <tbody>\n",
       "    <tr>\n",
       "      <th>0</th>\n",
       "      <td>0</td>\n",
       "      <td>5</td>\n",
       "      <td>5037</td>\n",
       "      <td>1499.0</td>\n",
       "    </tr>\n",
       "    <tr>\n",
       "      <th>2</th>\n",
       "      <td>2</td>\n",
       "      <td>5</td>\n",
       "      <td>5233</td>\n",
       "      <td>1199.0</td>\n",
       "    </tr>\n",
       "  </tbody>\n",
       "</table>\n",
       "</div>"
      ],
      "text/plain": [
       "   ID  shop_id  item_id  item_price\n",
       "0   0        5     5037      1499.0\n",
       "2   2        5     5233      1199.0"
      ]
     },
     "execution_count": 60,
     "metadata": {},
     "output_type": "execute_result"
    }
   ],
   "source": [
    "df_test_prices_predict = df_test_prices.copy()\n",
    "df_test_prices_predict = df_test_prices_predict[df_test_prices_predict['item_price'] != 0]\n",
    "df_test_prices_predict.head(2)"
   ]
  },
  {
   "cell_type": "code",
   "execution_count": 61,
   "id": "2127d644-2481-48c3-a79b-8e289e51e5eb",
   "metadata": {},
   "outputs": [
    {
     "data": {
      "text/plain": [
       "5999.5"
      ]
     },
     "execution_count": 61,
     "metadata": {},
     "output_type": "execute_result"
    }
   ],
   "source": [
    "df_test_prices_predict['item_price'].max()"
   ]
  },
  {
   "cell_type": "markdown",
   "id": "c0568e44-21ae-40d1-b08c-347cc879634c",
   "metadata": {},
   "source": [
    "### Predict the missing prices"
   ]
  },
  {
   "cell_type": "code",
   "execution_count": 62,
   "id": "2b4dff94-9c65-474c-9454-ca306a4e8a97",
   "metadata": {},
   "outputs": [],
   "source": [
    "X_price = df_test_prices_predict.drop('item_price',axis=1)\n",
    "y_price = df_test_prices_predict['item_price']"
   ]
  },
  {
   "cell_type": "code",
   "execution_count": 67,
   "id": "86f0131d-4a1a-4120-bc02-6e5e052b95b9",
   "metadata": {},
   "outputs": [],
   "source": [
    "from sklearn.model_selection import train_test_split\n",
    "import xgboost\n",
    "\n",
    "X_train_price,X_test_price,y_train_price,y_test_price = train_test_split(X_price,y_price,test_size=0.2,shuffle=True)\n",
    "\n",
    "import xgboost\n",
    "\n",
    "xgb_model_price = xgboost.XGBRegressor(n_estimators=1250,max_depth=10)\n",
    "xgb_model_price.fit(X_train_price,y_train_price)\n",
    "\n",
    "y_pred_xgboost_price = xgb_model_price.predict(X_test_price)"
   ]
  },
  {
   "cell_type": "code",
   "execution_count": 68,
   "id": "e7c39d33-a158-4de7-8dee-fcc485b37142",
   "metadata": {},
   "outputs": [
    {
     "name": "stdout",
     "output_type": "stream",
     "text": [
      "MAE = 5.655\n",
      "--------------------------------------------------------------------------------\n",
      "MSE = 219.314\n",
      "--------------------------------------------------------------------------------\n",
      "RMSE = 14.809\n",
      "--------------------------------------------------------------------------------\n",
      "r2_score = 1.0\n",
      "--------------------------------------------------------------------------------\n",
      "Base Model training Score Regression: 0.9999892041951849\n",
      "Base Model testing Score Regression: 0.9997412677883483\n"
     ]
    }
   ],
   "source": [
    "from sklearn.metrics import mean_absolute_error,mean_absolute_percentage_error,mean_squared_error,r2_score\n",
    "\n",
    "mae_price = round(mean_absolute_error(y_test_price,y_pred_xgboost_price),3)\n",
    "print(f'MAE = {mae_price}')\n",
    "print('-'*80)\n",
    "\n",
    "mse_price = round(mean_squared_error(y_test_price,y_pred_xgboost_price),3)\n",
    "print(f'MSE = {mse_price}')\n",
    "print('-'*80)\n",
    "\n",
    "rmse_price = round(np.sqrt(mean_squared_error(y_test_price,y_pred_xgboost_price)),3)\n",
    "print(f'RMSE = {rmse_price}')\n",
    "print('-'*80)\n",
    "\n",
    "r2score_price = round(r2_score(y_test_price,y_pred_xgboost_price),3)\n",
    "print(f'r2_score = {r2score_price}')\n",
    "print('-'*80)\n",
    "\n",
    "print(f'Base Model training Score Regression: {xgb_model_price.score(X_train_price,y_train_price)}')\n",
    "print(f'Base Model testing Score Regression: {xgb_model_price.score(X_test_price,y_test_price)}')"
   ]
  },
  {
   "cell_type": "markdown",
   "id": "e254cb89-8d4e-4c2a-832a-c253301f9dc2",
   "metadata": {},
   "source": [
    "### predict the missing prices"
   ]
  },
  {
   "cell_type": "code",
   "execution_count": 69,
   "id": "84b1e2c5-c86d-4c52-a3c3-cc652e044f21",
   "metadata": {},
   "outputs": [
    {
     "data": {
      "text/plain": [
       "array([ 349.18527, 1214.4675 , 4631.6396 , ...,  356.0578 , 2381.6797 ,\n",
       "        310.184  ], dtype=float32)"
      ]
     },
     "execution_count": 69,
     "metadata": {},
     "output_type": "execute_result"
    }
   ],
   "source": [
    "to_predict = df_test_prices_test.drop('item_price',axis=1)\n",
    "y_pred_missing_prices = xgb_model_price.predict(to_predict)\n",
    "y_pred_missing_prices"
   ]
  },
  {
   "cell_type": "code",
   "execution_count": 70,
   "id": "d85fd0b8-0ce0-484b-8104-0ddb572059f2",
   "metadata": {},
   "outputs": [
    {
     "name": "stdout",
     "output_type": "stream",
     "text": [
      "-21.777866 5997.195\n"
     ]
    }
   ],
   "source": [
    "print(y_pred_missing_prices.min(),y_pred_missing_prices.max())"
   ]
  },
  {
   "cell_type": "code",
   "execution_count": 71,
   "id": "bbe3058a-2149-4200-bb76-a1a1d946826f",
   "metadata": {},
   "outputs": [
    {
     "data": {
      "text/html": [
       "<div>\n",
       "<style scoped>\n",
       "    .dataframe tbody tr th:only-of-type {\n",
       "        vertical-align: middle;\n",
       "    }\n",
       "\n",
       "    .dataframe tbody tr th {\n",
       "        vertical-align: top;\n",
       "    }\n",
       "\n",
       "    .dataframe thead th {\n",
       "        text-align: right;\n",
       "    }\n",
       "</style>\n",
       "<table border=\"1\" class=\"dataframe\">\n",
       "  <thead>\n",
       "    <tr style=\"text-align: right;\">\n",
       "      <th></th>\n",
       "      <th>ID</th>\n",
       "      <th>shop_id</th>\n",
       "      <th>item_id</th>\n",
       "      <th>item_price</th>\n",
       "    </tr>\n",
       "  </thead>\n",
       "  <tbody>\n",
       "    <tr>\n",
       "      <th>1</th>\n",
       "      <td>1</td>\n",
       "      <td>5</td>\n",
       "      <td>5320</td>\n",
       "      <td>349.185272</td>\n",
       "    </tr>\n",
       "    <tr>\n",
       "      <th>4</th>\n",
       "      <td>4</td>\n",
       "      <td>5</td>\n",
       "      <td>5268</td>\n",
       "      <td>1214.467529</td>\n",
       "    </tr>\n",
       "  </tbody>\n",
       "</table>\n",
       "</div>"
      ],
      "text/plain": [
       "   ID  shop_id  item_id   item_price\n",
       "1   1        5     5320   349.185272\n",
       "4   4        5     5268  1214.467529"
      ]
     },
     "execution_count": 71,
     "metadata": {},
     "output_type": "execute_result"
    }
   ],
   "source": [
    "to_predict['item_price'] = y_pred_missing_prices\n",
    "to_predict.head(2)"
   ]
  },
  {
   "cell_type": "markdown",
   "id": "1736f58d-820e-4eda-8405-b8516560a8b3",
   "metadata": {},
   "source": [
    "### Merge the predicted data with the original data with prices"
   ]
  },
  {
   "cell_type": "code",
   "execution_count": 72,
   "id": "0211ea3f-b497-4f66-a015-07e69c6ad85c",
   "metadata": {},
   "outputs": [
    {
     "data": {
      "text/html": [
       "<div>\n",
       "<style scoped>\n",
       "    .dataframe tbody tr th:only-of-type {\n",
       "        vertical-align: middle;\n",
       "    }\n",
       "\n",
       "    .dataframe tbody tr th {\n",
       "        vertical-align: top;\n",
       "    }\n",
       "\n",
       "    .dataframe thead th {\n",
       "        text-align: right;\n",
       "    }\n",
       "</style>\n",
       "<table border=\"1\" class=\"dataframe\">\n",
       "  <thead>\n",
       "    <tr style=\"text-align: right;\">\n",
       "      <th></th>\n",
       "      <th>ID</th>\n",
       "      <th>shop_id</th>\n",
       "      <th>item_id</th>\n",
       "      <th>item_price</th>\n",
       "    </tr>\n",
       "  </thead>\n",
       "  <tbody>\n",
       "    <tr>\n",
       "      <th>0</th>\n",
       "      <td>0</td>\n",
       "      <td>5</td>\n",
       "      <td>5037</td>\n",
       "      <td>1499.000000</td>\n",
       "    </tr>\n",
       "    <tr>\n",
       "      <th>1</th>\n",
       "      <td>2</td>\n",
       "      <td>5</td>\n",
       "      <td>5233</td>\n",
       "      <td>1199.000000</td>\n",
       "    </tr>\n",
       "    <tr>\n",
       "      <th>2</th>\n",
       "      <td>3</td>\n",
       "      <td>5</td>\n",
       "      <td>5232</td>\n",
       "      <td>1199.000000</td>\n",
       "    </tr>\n",
       "    <tr>\n",
       "      <th>3</th>\n",
       "      <td>5</td>\n",
       "      <td>5</td>\n",
       "      <td>5039</td>\n",
       "      <td>1499.000000</td>\n",
       "    </tr>\n",
       "    <tr>\n",
       "      <th>4</th>\n",
       "      <td>6</td>\n",
       "      <td>5</td>\n",
       "      <td>5041</td>\n",
       "      <td>3999.000000</td>\n",
       "    </tr>\n",
       "    <tr>\n",
       "      <th>...</th>\n",
       "      <td>...</td>\n",
       "      <td>...</td>\n",
       "      <td>...</td>\n",
       "      <td>...</td>\n",
       "    </tr>\n",
       "    <tr>\n",
       "      <th>214195</th>\n",
       "      <td>214130</td>\n",
       "      <td>45</td>\n",
       "      <td>15033</td>\n",
       "      <td>509.882416</td>\n",
       "    </tr>\n",
       "    <tr>\n",
       "      <th>214196</th>\n",
       "      <td>214150</td>\n",
       "      <td>45</td>\n",
       "      <td>7572</td>\n",
       "      <td>1933.190552</td>\n",
       "    </tr>\n",
       "    <tr>\n",
       "      <th>214197</th>\n",
       "      <td>214154</td>\n",
       "      <td>45</td>\n",
       "      <td>9030</td>\n",
       "      <td>356.057800</td>\n",
       "    </tr>\n",
       "    <tr>\n",
       "      <th>214198</th>\n",
       "      <td>214161</td>\n",
       "      <td>45</td>\n",
       "      <td>1867</td>\n",
       "      <td>2381.679688</td>\n",
       "    </tr>\n",
       "    <tr>\n",
       "      <th>214199</th>\n",
       "      <td>214173</td>\n",
       "      <td>45</td>\n",
       "      <td>12470</td>\n",
       "      <td>310.183990</td>\n",
       "    </tr>\n",
       "  </tbody>\n",
       "</table>\n",
       "<p>214200 rows × 4 columns</p>\n",
       "</div>"
      ],
      "text/plain": [
       "            ID  shop_id  item_id   item_price\n",
       "0            0        5     5037  1499.000000\n",
       "1            2        5     5233  1199.000000\n",
       "2            3        5     5232  1199.000000\n",
       "3            5        5     5039  1499.000000\n",
       "4            6        5     5041  3999.000000\n",
       "...        ...      ...      ...          ...\n",
       "214195  214130       45    15033   509.882416\n",
       "214196  214150       45     7572  1933.190552\n",
       "214197  214154       45     9030   356.057800\n",
       "214198  214161       45     1867  2381.679688\n",
       "214199  214173       45    12470   310.183990\n",
       "\n",
       "[214200 rows x 4 columns]"
      ]
     },
     "execution_count": 72,
     "metadata": {},
     "output_type": "execute_result"
    }
   ],
   "source": [
    "final_test_data = pd.concat([df_test_prices_predict,to_predict],axis=0).reset_index(drop=True)\n",
    "final_test_data"
   ]
  },
  {
   "cell_type": "markdown",
   "id": "580d32ab-dd23-4b2b-b3ca-c6231dab30cd",
   "metadata": {},
   "source": [
    "### Add item_category_id to test data"
   ]
  },
  {
   "cell_type": "code",
   "execution_count": 73,
   "id": "1d4ad1bc-bc5c-4780-bdbb-0486fce0d14b",
   "metadata": {},
   "outputs": [
    {
     "name": "stdout",
     "output_type": "stream",
     "text": [
      "(2888231, 8)\n"
     ]
    },
    {
     "data": {
      "text/html": [
       "<div>\n",
       "<style scoped>\n",
       "    .dataframe tbody tr th:only-of-type {\n",
       "        vertical-align: middle;\n",
       "    }\n",
       "\n",
       "    .dataframe tbody tr th {\n",
       "        vertical-align: top;\n",
       "    }\n",
       "\n",
       "    .dataframe thead th {\n",
       "        text-align: right;\n",
       "    }\n",
       "</style>\n",
       "<table border=\"1\" class=\"dataframe\">\n",
       "  <thead>\n",
       "    <tr style=\"text-align: right;\">\n",
       "      <th></th>\n",
       "      <th>date_block_num</th>\n",
       "      <th>month</th>\n",
       "      <th>tenure</th>\n",
       "      <th>shop_id</th>\n",
       "      <th>item_id</th>\n",
       "      <th>item_price</th>\n",
       "      <th>qt_sold_per_day</th>\n",
       "      <th>cluster</th>\n",
       "    </tr>\n",
       "  </thead>\n",
       "  <tbody>\n",
       "    <tr>\n",
       "      <th>0</th>\n",
       "      <td>0</td>\n",
       "      <td>1</td>\n",
       "      <td>1032</td>\n",
       "      <td>59</td>\n",
       "      <td>22154</td>\n",
       "      <td>999.0</td>\n",
       "      <td>1.0</td>\n",
       "      <td>3</td>\n",
       "    </tr>\n",
       "  </tbody>\n",
       "</table>\n",
       "</div>"
      ],
      "text/plain": [
       "   date_block_num  month  tenure  shop_id  item_id  item_price  \\\n",
       "0               0      1    1032       59    22154       999.0   \n",
       "\n",
       "   qt_sold_per_day  cluster  \n",
       "0              1.0        3  "
      ]
     },
     "execution_count": 73,
     "metadata": {},
     "output_type": "execute_result"
    }
   ],
   "source": [
    "print(df_merged_outlier.shape)\n",
    "df_merged_outlier.head(1)"
   ]
  },
  {
   "cell_type": "code",
   "execution_count": 74,
   "id": "bd883935-5207-430c-a0e3-5968d163ec66",
   "metadata": {},
   "outputs": [],
   "source": [
    "# category = df_merged_outlier.copy()\n",
    "# category = category.groupby('item_id',as_index=False)['item_category_id'].agg('last').reset_index(drop=True)\n",
    "# print(category.shape)\n",
    "# category.head(2)"
   ]
  },
  {
   "cell_type": "code",
   "execution_count": 75,
   "id": "9fb6fd17-60f6-434e-8b81-46c9497703d9",
   "metadata": {},
   "outputs": [],
   "source": [
    "# final_test_data['item_category_id'] = 0\n",
    "\n",
    "# for i,item_A in tqdm(enumerate(category['item_id'])):\n",
    "#     for j,item_B in enumerate(final_test_data['item_id']):\n",
    "#         if item_A == item_B:\n",
    "#             final_test_data.loc[j,'item_category_id'] = category.loc[i,'item_category_id']"
   ]
  },
  {
   "cell_type": "markdown",
   "id": "cc7525b1-e146-4b89-ab71-7e7aaceb2f3b",
   "metadata": {},
   "source": [
    "# Step 2: Split the data for modeling"
   ]
  },
  {
   "cell_type": "code",
   "execution_count": 76,
   "id": "d9c41872-74aa-4e2d-b9a5-4ce75393fbad",
   "metadata": {},
   "outputs": [
    {
     "data": {
      "text/html": [
       "<div>\n",
       "<style scoped>\n",
       "    .dataframe tbody tr th:only-of-type {\n",
       "        vertical-align: middle;\n",
       "    }\n",
       "\n",
       "    .dataframe tbody tr th {\n",
       "        vertical-align: top;\n",
       "    }\n",
       "\n",
       "    .dataframe thead th {\n",
       "        text-align: right;\n",
       "    }\n",
       "</style>\n",
       "<table border=\"1\" class=\"dataframe\">\n",
       "  <thead>\n",
       "    <tr style=\"text-align: right;\">\n",
       "      <th></th>\n",
       "      <th>ID</th>\n",
       "      <th>shop_id</th>\n",
       "      <th>item_id</th>\n",
       "      <th>item_price</th>\n",
       "    </tr>\n",
       "  </thead>\n",
       "  <tbody>\n",
       "    <tr>\n",
       "      <th>0</th>\n",
       "      <td>0</td>\n",
       "      <td>5</td>\n",
       "      <td>5037</td>\n",
       "      <td>1499.0</td>\n",
       "    </tr>\n",
       "    <tr>\n",
       "      <th>1</th>\n",
       "      <td>2</td>\n",
       "      <td>5</td>\n",
       "      <td>5233</td>\n",
       "      <td>1199.0</td>\n",
       "    </tr>\n",
       "  </tbody>\n",
       "</table>\n",
       "</div>"
      ],
      "text/plain": [
       "   ID  shop_id  item_id  item_price\n",
       "0   0        5     5037      1499.0\n",
       "1   2        5     5233      1199.0"
      ]
     },
     "execution_count": 76,
     "metadata": {},
     "output_type": "execute_result"
    }
   ],
   "source": [
    "final_test_data.head(2)"
   ]
  },
  {
   "cell_type": "code",
   "execution_count": 77,
   "id": "541e6b4b-9800-40fa-ab5c-92cdc2ef2bef",
   "metadata": {},
   "outputs": [
    {
     "data": {
      "text/html": [
       "<div>\n",
       "<style scoped>\n",
       "    .dataframe tbody tr th:only-of-type {\n",
       "        vertical-align: middle;\n",
       "    }\n",
       "\n",
       "    .dataframe tbody tr th {\n",
       "        vertical-align: top;\n",
       "    }\n",
       "\n",
       "    .dataframe thead th {\n",
       "        text-align: right;\n",
       "    }\n",
       "</style>\n",
       "<table border=\"1\" class=\"dataframe\">\n",
       "  <thead>\n",
       "    <tr style=\"text-align: right;\">\n",
       "      <th></th>\n",
       "      <th>date_block_num</th>\n",
       "      <th>month</th>\n",
       "      <th>tenure</th>\n",
       "      <th>shop_id</th>\n",
       "      <th>item_id</th>\n",
       "      <th>item_price</th>\n",
       "      <th>qt_sold_per_day</th>\n",
       "      <th>cluster</th>\n",
       "    </tr>\n",
       "  </thead>\n",
       "  <tbody>\n",
       "    <tr>\n",
       "      <th>2888229</th>\n",
       "      <td>33</td>\n",
       "      <td>10</td>\n",
       "      <td>9</td>\n",
       "      <td>25</td>\n",
       "      <td>7440</td>\n",
       "      <td>299.0</td>\n",
       "      <td>1.0</td>\n",
       "      <td>2</td>\n",
       "    </tr>\n",
       "    <tr>\n",
       "      <th>2888230</th>\n",
       "      <td>33</td>\n",
       "      <td>10</td>\n",
       "      <td>28</td>\n",
       "      <td>25</td>\n",
       "      <td>7460</td>\n",
       "      <td>299.0</td>\n",
       "      <td>1.0</td>\n",
       "      <td>2</td>\n",
       "    </tr>\n",
       "  </tbody>\n",
       "</table>\n",
       "</div>"
      ],
      "text/plain": [
       "         date_block_num  month  tenure  shop_id  item_id  item_price  \\\n",
       "2888229              33     10       9       25     7440       299.0   \n",
       "2888230              33     10      28       25     7460       299.0   \n",
       "\n",
       "         qt_sold_per_day  cluster  \n",
       "2888229              1.0        2  \n",
       "2888230              1.0        2  "
      ]
     },
     "execution_count": 77,
     "metadata": {},
     "output_type": "execute_result"
    }
   ],
   "source": [
    "df_merged_outlier.tail(2)"
   ]
  },
  {
   "cell_type": "code",
   "execution_count": 103,
   "id": "b5e93dd5-5e28-4d73-9ca3-cfcb682e00d0",
   "metadata": {},
   "outputs": [
    {
     "data": {
      "text/html": [
       "<div>\n",
       "<style scoped>\n",
       "    .dataframe tbody tr th:only-of-type {\n",
       "        vertical-align: middle;\n",
       "    }\n",
       "\n",
       "    .dataframe tbody tr th {\n",
       "        vertical-align: top;\n",
       "    }\n",
       "\n",
       "    .dataframe thead th {\n",
       "        text-align: right;\n",
       "    }\n",
       "</style>\n",
       "<table border=\"1\" class=\"dataframe\">\n",
       "  <thead>\n",
       "    <tr style=\"text-align: right;\">\n",
       "      <th></th>\n",
       "      <th>date_block_num</th>\n",
       "      <th>month</th>\n",
       "      <th>shop_id</th>\n",
       "      <th>item_id</th>\n",
       "      <th>item_price</th>\n",
       "      <th>item_cnt_month</th>\n",
       "      <th>cluster</th>\n",
       "    </tr>\n",
       "  </thead>\n",
       "  <tbody>\n",
       "    <tr>\n",
       "      <th>0</th>\n",
       "      <td>0</td>\n",
       "      <td>1</td>\n",
       "      <td>0</td>\n",
       "      <td>32</td>\n",
       "      <td>221.0</td>\n",
       "      <td>6.0</td>\n",
       "      <td>2</td>\n",
       "    </tr>\n",
       "    <tr>\n",
       "      <th>1</th>\n",
       "      <td>0</td>\n",
       "      <td>1</td>\n",
       "      <td>0</td>\n",
       "      <td>33</td>\n",
       "      <td>347.0</td>\n",
       "      <td>3.0</td>\n",
       "      <td>2</td>\n",
       "    </tr>\n",
       "  </tbody>\n",
       "</table>\n",
       "</div>"
      ],
      "text/plain": [
       "   date_block_num  month  shop_id  item_id  item_price  item_cnt_month  \\\n",
       "0               0      1        0       32       221.0             6.0   \n",
       "1               0      1        0       33       347.0             3.0   \n",
       "\n",
       "   cluster  \n",
       "0        2  \n",
       "1        2  "
      ]
     },
     "execution_count": 103,
     "metadata": {},
     "output_type": "execute_result"
    }
   ],
   "source": [
    "df_merged_outlier_month = df_merged_outlier.copy()\n",
    "df_merged_outlier_month = df_merged_outlier_month.groupby(['date_block_num','month','shop_id','item_id'],as_index=False).agg({'item_price':'last','qt_sold_per_day':'sum'})\n",
    "df_merged_outlier_month = df_merged_outlier_month.rename(columns={'qt_sold_per_day':'item_cnt_month'})\n",
    "\n",
    "df_merged_outlier_month.head(2)"
   ]
  },
  {
   "cell_type": "code",
   "execution_count": 104,
   "id": "ad2f3761-cc3c-441e-8dc8-431f97f9e44e",
   "metadata": {},
   "outputs": [],
   "source": [
    "X = df_merged_outlier_month.drop(['item_cnt_month'],axis=1)\n",
    "y = df_merged_outlier_month['item_cnt_month']"
   ]
  },
  {
   "cell_type": "code",
   "execution_count": 105,
   "id": "2815c8d5-0c99-4dfd-8009-6fc9476def53",
   "metadata": {},
   "outputs": [
    {
     "data": {
      "text/html": [
       "<div>\n",
       "<style scoped>\n",
       "    .dataframe tbody tr th:only-of-type {\n",
       "        vertical-align: middle;\n",
       "    }\n",
       "\n",
       "    .dataframe tbody tr th {\n",
       "        vertical-align: top;\n",
       "    }\n",
       "\n",
       "    .dataframe thead th {\n",
       "        text-align: right;\n",
       "    }\n",
       "</style>\n",
       "<table border=\"1\" class=\"dataframe\">\n",
       "  <thead>\n",
       "    <tr style=\"text-align: right;\">\n",
       "      <th></th>\n",
       "      <th>date_block_num</th>\n",
       "      <th>month</th>\n",
       "      <th>shop_id</th>\n",
       "      <th>item_id</th>\n",
       "      <th>item_price</th>\n",
       "      <th>cluster</th>\n",
       "    </tr>\n",
       "  </thead>\n",
       "  <tbody>\n",
       "    <tr>\n",
       "      <th>512317</th>\n",
       "      <td>8</td>\n",
       "      <td>9</td>\n",
       "      <td>57</td>\n",
       "      <td>18591</td>\n",
       "      <td>149.0</td>\n",
       "      <td>3</td>\n",
       "    </tr>\n",
       "  </tbody>\n",
       "</table>\n",
       "</div>"
      ],
      "text/plain": [
       "        date_block_num  month  shop_id  item_id  item_price  cluster\n",
       "512317               8      9       57    18591       149.0        3"
      ]
     },
     "execution_count": 105,
     "metadata": {},
     "output_type": "execute_result"
    }
   ],
   "source": [
    "from sklearn.preprocessing import MinMaxScaler\n",
    "from sklearn.model_selection import train_test_split\n",
    "\n",
    "scaler = MinMaxScaler()\n",
    "\n",
    "X_train,X_test,y_train,y_test = train_test_split(X,y,test_size=0.2,shuffle=True,random_state=42)\n",
    "\n",
    "y_train = pd.Series(y_train).clip(0,20)\n",
    "y_test = pd.Series(y_test).clip(0,20)\n",
    "\n",
    "X_train.head(1)"
   ]
  },
  {
   "cell_type": "code",
   "execution_count": 106,
   "id": "2c4c1599-377e-4cfb-a29b-48ce233dd14b",
   "metadata": {},
   "outputs": [
    {
     "data": {
      "text/html": [
       "<div>\n",
       "<style scoped>\n",
       "    .dataframe tbody tr th:only-of-type {\n",
       "        vertical-align: middle;\n",
       "    }\n",
       "\n",
       "    .dataframe tbody tr th {\n",
       "        vertical-align: top;\n",
       "    }\n",
       "\n",
       "    .dataframe thead th {\n",
       "        text-align: right;\n",
       "    }\n",
       "</style>\n",
       "<table border=\"1\" class=\"dataframe\">\n",
       "  <thead>\n",
       "    <tr style=\"text-align: right;\">\n",
       "      <th></th>\n",
       "      <th>date_block_num</th>\n",
       "      <th>month</th>\n",
       "      <th>shop_id</th>\n",
       "      <th>item_id</th>\n",
       "      <th>item_price</th>\n",
       "      <th>cluster</th>\n",
       "    </tr>\n",
       "  </thead>\n",
       "  <tbody>\n",
       "    <tr>\n",
       "      <th>1177764</th>\n",
       "      <td>22</td>\n",
       "      <td>11</td>\n",
       "      <td>54</td>\n",
       "      <td>2915</td>\n",
       "      <td>2099.0</td>\n",
       "      <td>2</td>\n",
       "    </tr>\n",
       "  </tbody>\n",
       "</table>\n",
       "</div>"
      ],
      "text/plain": [
       "         date_block_num  month  shop_id  item_id  item_price  cluster\n",
       "1177764              22     11       54     2915      2099.0        2"
      ]
     },
     "execution_count": 106,
     "metadata": {},
     "output_type": "execute_result"
    }
   ],
   "source": [
    "X_test.head(1)"
   ]
  },
  {
   "cell_type": "markdown",
   "id": "847a42a0-98c0-4d0a-9fc3-97ae3b3c224c",
   "metadata": {},
   "source": [
    "# Build a regression base model"
   ]
  },
  {
   "cell_type": "code",
   "execution_count": 107,
   "id": "57f6fedf-fb54-44ac-810a-177de702d6c9",
   "metadata": {},
   "outputs": [],
   "source": [
    "# from sklearn.linear_model import LinearRegression\n",
    "\n",
    "# model_LR = LinearRegression()\n",
    "# model_LR.fit(X_train,y_train)\n",
    "\n",
    "# y_pred = model_LR.predict(X_test)"
   ]
  },
  {
   "cell_type": "code",
   "execution_count": 108,
   "id": "88edc962-5495-4fcb-b6b9-27959732d3ac",
   "metadata": {},
   "outputs": [],
   "source": [
    "# from sklearn.metrics import mean_absolute_error,mean_absolute_percentage_error,mean_squared_error,r2_score\n",
    "\n",
    "# mae = round(mean_absolute_error(y_test,y_pred),3)\n",
    "# print(f'MAE = {mae}')\n",
    "# print('-'*80)\n",
    "\n",
    "# mse = round(mean_squared_error(y_test,y_pred),3)\n",
    "# print(f'MSE = {mse}')\n",
    "# print('-'*80)\n",
    "\n",
    "# rmse = round(np.sqrt(mean_squared_error(y_test,y_pred)),3)\n",
    "# print(f'RMSE = {rmse}')\n",
    "# print('-'*80)\n",
    "\n",
    "# r2score = round(r2_score(y_test,y_pred),3)\n",
    "# print(f'r2_score = {r2score}')\n",
    "# print('-'*80)\n",
    "\n",
    "# print(f'Base Model training Score Regression: {model_LR.score(X_train,y_train)}')\n",
    "# print(f'Base Model testing Score Regression: {model_LR.score(X_test,y_test)}')"
   ]
  },
  {
   "cell_type": "markdown",
   "id": "b9b70b99-cae0-44b1-aad8-b62b30b4df51",
   "metadata": {},
   "source": [
    "# Build an lightgbm model"
   ]
  },
  {
   "cell_type": "code",
   "execution_count": 109,
   "id": "725289dd-65b6-46df-b890-ebc3baedf9c8",
   "metadata": {},
   "outputs": [],
   "source": [
    "# import lightgbm\n",
    "\n",
    "# lgbm_model = lightgbm.LGBMRegressor(n_estimators=1250,max_depth=10,num_leaves=255,learning_rate=0.1)\n",
    "# lgbm_model.fit(X_train,y_train)\n",
    "\n",
    "# y_pred_lgbm = lgbm_model.predict(X_test)"
   ]
  },
  {
   "cell_type": "code",
   "execution_count": 110,
   "id": "8bfe3235-f131-4087-9729-7cd9cd19d3bf",
   "metadata": {},
   "outputs": [],
   "source": [
    "# from sklearn.metrics import mean_absolute_error,mean_absolute_percentage_error,mean_squared_error,r2_score\n",
    "\n",
    "# mae = round(mean_absolute_error(y_test,y_pred_lgbm),3)\n",
    "# print(f'MAE = {mae}')\n",
    "# print('-'*80)\n",
    "\n",
    "# mse = round(mean_squared_error(y_test,y_pred_lgbm),3)\n",
    "# print(f'MSE = {mse}')\n",
    "# print('-'*80)\n",
    "\n",
    "# rmse = round(np.sqrt(mean_squared_error(y_test,y_pred_lgbm)),3)\n",
    "# print(f'RMSE = {rmse}')\n",
    "# print('-'*80)\n",
    "\n",
    "# r2score = round(r2_score(y_test,y_pred_lgbm),3)\n",
    "# print(f'r2_score = {r2score}')\n",
    "# print('-'*80)\n",
    "\n",
    "# # print(f'Base Model training Score Regression: {lgbm_model.score(X_train,y_train)}')\n",
    "# # print(f'Base Model testing Score Regression: {lgbm_model.score(X_test,y_test)}')"
   ]
  },
  {
   "cell_type": "markdown",
   "id": "f884f4ae-61ca-49d0-b6ea-f8c1bf548385",
   "metadata": {},
   "source": [
    "# Build XGBboost model"
   ]
  },
  {
   "cell_type": "code",
   "execution_count": 111,
   "id": "5c05478c-af8e-47cc-b406-bccce3d578f1",
   "metadata": {},
   "outputs": [],
   "source": [
    "# #!pip install xgboost\n",
    "import xgboost"
   ]
  },
  {
   "cell_type": "markdown",
   "id": "ded35935-0df4-47dd-9aab-5ed10a197145",
   "metadata": {},
   "source": [
    "#### find the best parameters"
   ]
  },
  {
   "cell_type": "code",
   "execution_count": 112,
   "id": "95304241-9cda-43c9-a313-9e792cdc684e",
   "metadata": {},
   "outputs": [],
   "source": [
    "# import xgboost as xgb\n",
    "# from sklearn.model_selection import GridSearchCV\n",
    "\n",
    "# xgb_reg = xgb.XGBRegressor()\n",
    "# params = {\n",
    "#     'max_depth': [6,8,10,12],\n",
    "#     'learning_rate': [0.01,0.05,0.1],\n",
    "#     'n_estimators': [1000,1250,1500]}\n",
    "\n",
    "# grid_search = GridSearchCV(xgb_reg, params, cv=5, scoring='neg_mean_squared_error')\n",
    "# grid_search.fit(X_train,y_train)\n",
    "\n",
    "# print(grid_search.best_params_)"
   ]
  },
  {
   "cell_type": "markdown",
   "id": "b1596b00-5324-4888-a76d-46d84319f5ca",
   "metadata": {},
   "source": [
    "#### Build the model"
   ]
  },
  {
   "cell_type": "code",
   "execution_count": 113,
   "id": "ecc31f42-60e1-45a0-b7dd-c1d92b8930e6",
   "metadata": {
    "scrolled": true,
    "tags": []
   },
   "outputs": [],
   "source": [
    "xgb_model = xgboost.XGBRegressor(n_estimators=1250,max_depth=10)\n",
    "xgb_model.fit(X_train,y_train)\n",
    "\n",
    "y_pred_xgb = xgb_model.predict(X_test)"
   ]
  },
  {
   "cell_type": "code",
   "execution_count": 114,
   "id": "e3808975-fada-443d-bda8-343af9558624",
   "metadata": {},
   "outputs": [
    {
     "name": "stdout",
     "output_type": "stream",
     "text": [
      "MAE = 0.842\n",
      "--------------------------------------------------------------------------------\n",
      "MSE = 2.275\n",
      "--------------------------------------------------------------------------------\n",
      "RMSE = 1.508\n",
      "--------------------------------------------------------------------------------\n",
      "r2_score = 0.635\n",
      "--------------------------------------------------------------------------------\n"
     ]
    }
   ],
   "source": [
    "from sklearn.metrics import mean_absolute_error,mean_absolute_percentage_error,mean_squared_error,r2_score\n",
    "\n",
    "mae = round(mean_absolute_error(y_test,y_pred_xgb),3)\n",
    "print(f'MAE = {mae}')\n",
    "print('-'*80)\n",
    "\n",
    "mse = round(mean_squared_error(y_test,y_pred_xgb),3)\n",
    "print(f'MSE = {mse}')\n",
    "print('-'*80)\n",
    "\n",
    "rmse = round(np.sqrt(mean_squared_error(y_test,y_pred_xgb)),3)\n",
    "print(f'RMSE = {rmse}')\n",
    "print('-'*80)\n",
    "\n",
    "r2score = round(r2_score(y_test,y_pred_xgb),3)\n",
    "print(f'r2_score = {r2score}')\n",
    "print('-'*80)\n",
    "\n",
    "# print(f'Base Model training Score Regression: {xgb_model.score(X_train,y_train)}')\n",
    "# print(f'Base Model testing Score Regression: {xgb_model.score(X_test,y_test)}')"
   ]
  },
  {
   "cell_type": "markdown",
   "id": "1568474a-2195-46c3-9066-18e8dcd11359",
   "metadata": {},
   "source": [
    "# Build a Stacking Regressor"
   ]
  },
  {
   "cell_type": "code",
   "execution_count": null,
   "id": "57c0d67d-b29b-49b1-9869-fe8406ebc4c2",
   "metadata": {},
   "outputs": [],
   "source": [
    "# from sklearn.ensemble import GradientBoostingRegressor,RandomForestRegressor\n",
    "# from sklearn.ensemble import StackingRegressor\n",
    "\n",
    "# RF = RandomForestRegressor()\n",
    "# GB = GradientBoostingRegressor()\n",
    "# XGB = xgboost.XGBRegressor()\n",
    "\n",
    "# stacking_regressor = StackingRegressor(estimators=[('RF',RF),('GB', GB),('XGB',XGB)])\n",
    "# stacking_regressor.fit(X_train,y_train)\n",
    "\n",
    "# y_pred = stacking_regressor.predict(X_test)"
   ]
  },
  {
   "cell_type": "code",
   "execution_count": null,
   "id": "1dd6646a-97e0-46e2-a0a5-c50471508da9",
   "metadata": {},
   "outputs": [],
   "source": [
    "# from sklearn.metrics import mean_absolute_error,mean_absolute_percentage_error,mean_squared_error,r2_score\n",
    "\n",
    "# mae = round(mean_absolute_error(y_test,y_pred),3)\n",
    "# print(f'MAE = {mae}')\n",
    "# print('-'*80)\n",
    "\n",
    "# mse = round(mean_squared_error(y_test,y_pred),3)\n",
    "# print(f'MSE = {mse}')\n",
    "# print('-'*80)\n",
    "\n",
    "# rmse = round(np.sqrt(mean_squared_error(y_test,y_pred)),3)\n",
    "# print(f'RMSE = {rmse}')\n",
    "# print('-'*80)\n",
    "\n",
    "# r2score = round(r2_score(y_test,y_pred),3)\n",
    "# print(f'r2_score = {r2score}')\n",
    "# print('-'*80)\n",
    "\n",
    "# # print(f'Base Model training Score Regression: {lgbm_model.score(X_train,y_train)}')\n",
    "# # print(f'Base Model testing Score Regression: {lgbm_model.score(X_test,y_test)}')"
   ]
  },
  {
   "cell_type": "code",
   "execution_count": null,
   "id": "644e74e2-1f62-4aa6-8854-f4adc046e950",
   "metadata": {},
   "outputs": [],
   "source": []
  },
  {
   "cell_type": "markdown",
   "id": "6742d132-8e97-438d-a24d-8dde896e7b72",
   "metadata": {},
   "source": [
    "# Predict the final test data"
   ]
  },
  {
   "cell_type": "code",
   "execution_count": null,
   "id": "834c7326-d52f-4694-a888-564433c10fe9",
   "metadata": {},
   "outputs": [],
   "source": [
    "X_test.tail(1)"
   ]
  },
  {
   "cell_type": "code",
   "execution_count": null,
   "id": "47c215e2-0976-4c94-bbf0-7714c064e26d",
   "metadata": {},
   "outputs": [],
   "source": [
    "final_test_data.tail(1)"
   ]
  },
  {
   "cell_type": "code",
   "execution_count": null,
   "id": "d72dcc74-9b2e-41b7-94e2-39dc48a25dd2",
   "metadata": {},
   "outputs": [],
   "source": [
    "#final_test_data['year'] = 2015\n",
    "final_test_data['month'] = 11\n",
    "final_test_data['date_block_num'] = 34\n",
    "\n",
    "final_test_data = final_test_data.loc[:,['date_block_num','month','shop_id','item_id','item_price']]\n",
    "final_test_data.head(2)"
   ]
  },
  {
   "cell_type": "code",
   "execution_count": null,
   "id": "b678efc1-ae4f-43b2-a6c6-ee87d89d4f68",
   "metadata": {},
   "outputs": [],
   "source": [
    "y_pred_test_final = xgb_model.predict(final_test_data)\n",
    "y_pred_test_final"
   ]
  },
  {
   "cell_type": "code",
   "execution_count": null,
   "id": "ff0dfa7e-bad1-4dd5-96cc-6c63058bed3d",
   "metadata": {},
   "outputs": [],
   "source": [
    "df_sales = df_test_prices.copy()\n",
    "df_sales['item_cnt_month'] = y_pred_test_final\n",
    "df_sales['item_cnt_month'] = round(df_sales['item_cnt_month'],0)\n",
    "df_sales = df_sales.drop(['shop_id','item_id','item_price'],axis=1)\n",
    "df_sales['item_cnt_month'] = df_sales['item_cnt_month'].clip(0,20)\n",
    "\n",
    "df_sales"
   ]
  },
  {
   "cell_type": "code",
   "execution_count": null,
   "id": "aeb11648-8cd6-4d39-b7c6-dbff1227e194",
   "metadata": {},
   "outputs": [],
   "source": [
    "df_sales['item_cnt_month'].unique()"
   ]
  },
  {
   "cell_type": "markdown",
   "id": "f48151b0-5006-4c50-89be-af74e755d3f8",
   "metadata": {},
   "source": [
    "# Save file"
   ]
  },
  {
   "cell_type": "code",
   "execution_count": null,
   "id": "75aa02e7-c2ef-4dcf-ba7b-0c528e0f061a",
   "metadata": {},
   "outputs": [],
   "source": [
    "df_sales.to_csv('df_sales.csv',index=False)"
   ]
  },
  {
   "cell_type": "code",
   "execution_count": null,
   "id": "c1c2bef1-4ed6-4d3b-a545-bbd77e01e0ff",
   "metadata": {},
   "outputs": [],
   "source": []
  }
 ],
 "metadata": {
  "kernelspec": {
   "display_name": "Python 3 (ipykernel)",
   "language": "python",
   "name": "python3"
  },
  "language_info": {
   "codemirror_mode": {
    "name": "ipython",
    "version": 3
   },
   "file_extension": ".py",
   "mimetype": "text/x-python",
   "name": "python",
   "nbconvert_exporter": "python",
   "pygments_lexer": "ipython3",
   "version": "3.10.8"
  }
 },
 "nbformat": 4,
 "nbformat_minor": 5
}
